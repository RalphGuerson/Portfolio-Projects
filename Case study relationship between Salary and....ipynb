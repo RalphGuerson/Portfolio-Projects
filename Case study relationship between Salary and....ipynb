{
  "nbformat": 4,
  "nbformat_minor": 0,
  "metadata": {
    "colab": {
      "provenance": []
    },
    "kernelspec": {
      "name": "python3",
      "display_name": "Python 3"
    },
    "language_info": {
      "name": "python"
    }
  },
  "cells": [
    {
      "cell_type": "markdown",
      "source": [
        "#**Hypothesis Testing**"
      ],
      "metadata": {
        "id": "K_kcmZqnQT91"
      }
    },
    {
      "cell_type": "markdown",
      "source": [
        "#**Case Study** : Impact of years of experience and education level on salary."
      ],
      "metadata": {
        "id": "uI9mb2RLQARY"
      }
    },
    {
      "cell_type": "markdown",
      "source": [
        "As we know, salary matters in employee satisfaction and retention. When employees are paid fairly, they are more likely to be engaged in their work and feel valued by their employer. This can lead to increased productivity, decreased turnover, and improved morale."
      ],
      "metadata": {
        "id": "4w1zDQMhVvK7"
      }
    },
    {
      "cell_type": "markdown",
      "source": [
        "However, salary is just one factor that affects employee satisfaction. Other factors, such as job security, benefits, and opportunities for advancement, also play a role. Organizations must consider these factors when setting salaries to attract and retain top talent."
      ],
      "metadata": {
        "id": "kdaCQdu8Xibo"
      }
    },
    {
      "cell_type": "markdown",
      "source": [
        "Here, we are concerned with answering two business questions:\n",
        "\n",
        "* Is there any relationship between years of experience and salary? If so, how do years of experience affect salary?\n",
        "* Is there any relationship between education level and salary? If so, how does education level affect salary?"
      ],
      "metadata": {
        "id": "kIyYch5fQQQU"
      }
    },
    {
      "cell_type": "markdown",
      "source": [
        "To address these requests, a pearson test test along with a one-way ANOVA will enable us to determine respectively, if there is a  correlation between years of experience and salary and a statistically significant difference in salary among groups of education level. This includes:\n",
        "\n",
        "- Using plots and descriptive statistics to check for assumption.\n",
        "- Creating and fitting a linear regression model with the selected variables\n",
        "- Checking model assumptions\n",
        "- Performing and interpreting a one-way ANOVA test\n",
        "- Comparing pairs of groups using an ANOVA post hoc test\n",
        "- Interpreting model outputs and communicating the results to nontechnical stakeholders"
      ],
      "metadata": {
        "id": "FXikDURwMJYX"
      }
    },
    {
      "cell_type": "markdown",
      "source": [
        "###**Relevant Imports**"
      ],
      "metadata": {
        "id": "yBEU75A9YE46"
      }
    },
    {
      "cell_type": "markdown",
      "source": [
        "We begin by importing the relevant packages and data. As we progress, we may want to import some new ones."
      ],
      "metadata": {
        "id": "tCn5FT7NYTwb"
      }
    },
    {
      "cell_type": "code",
      "execution_count": 1,
      "metadata": {
        "id": "dHLsYVWiXf-i"
      },
      "outputs": [],
      "source": [
        "import pandas as pd\n",
        "import seaborn as sns\n",
        "from scipy import stats\n",
        "from google.colab import drive\n"
      ]
    },
    {
      "cell_type": "markdown",
      "source": [
        "We load the data and start by discovering, using head and size."
      ],
      "metadata": {
        "id": "SzL4a23vaUws"
      }
    },
    {
      "cell_type": "code",
      "source": [
        "path ='/content/drive/MyDrive/Portfolio DA/Salary_Data.csv'"
      ],
      "metadata": {
        "id": "h3qnsP8BdqNQ"
      },
      "execution_count": 2,
      "outputs": []
    },
    {
      "cell_type": "code",
      "source": [
        "df = pd.read_csv(path)\n",
        "df.head()"
      ],
      "metadata": {
        "colab": {
          "base_uri": "https://localhost:8080/",
          "height": 206
        },
        "id": "rzBV9cvTd6GE",
        "outputId": "5cb05e46-6cfa-4987-a34b-8bfb2f94d1e5"
      },
      "execution_count": 3,
      "outputs": [
        {
          "output_type": "execute_result",
          "data": {
            "text/plain": [
              "    Age  Gender Education Level          Job Title  Years of Experience  \\\n",
              "0  32.0    Male      Bachelor's  Software Engineer                  5.0   \n",
              "1  28.0  Female        Master's       Data Analyst                  3.0   \n",
              "2  45.0    Male             PhD     Senior Manager                 15.0   \n",
              "3  36.0  Female      Bachelor's    Sales Associate                  7.0   \n",
              "4  52.0    Male        Master's           Director                 20.0   \n",
              "\n",
              "     Salary  \n",
              "0   90000.0  \n",
              "1   65000.0  \n",
              "2  150000.0  \n",
              "3   60000.0  \n",
              "4  200000.0  "
            ],
            "text/html": [
              "\n",
              "  <div id=\"df-b6d03411-31a1-4252-a41e-945197469779\">\n",
              "    <div class=\"colab-df-container\">\n",
              "      <div>\n",
              "<style scoped>\n",
              "    .dataframe tbody tr th:only-of-type {\n",
              "        vertical-align: middle;\n",
              "    }\n",
              "\n",
              "    .dataframe tbody tr th {\n",
              "        vertical-align: top;\n",
              "    }\n",
              "\n",
              "    .dataframe thead th {\n",
              "        text-align: right;\n",
              "    }\n",
              "</style>\n",
              "<table border=\"1\" class=\"dataframe\">\n",
              "  <thead>\n",
              "    <tr style=\"text-align: right;\">\n",
              "      <th></th>\n",
              "      <th>Age</th>\n",
              "      <th>Gender</th>\n",
              "      <th>Education Level</th>\n",
              "      <th>Job Title</th>\n",
              "      <th>Years of Experience</th>\n",
              "      <th>Salary</th>\n",
              "    </tr>\n",
              "  </thead>\n",
              "  <tbody>\n",
              "    <tr>\n",
              "      <th>0</th>\n",
              "      <td>32.0</td>\n",
              "      <td>Male</td>\n",
              "      <td>Bachelor's</td>\n",
              "      <td>Software Engineer</td>\n",
              "      <td>5.0</td>\n",
              "      <td>90000.0</td>\n",
              "    </tr>\n",
              "    <tr>\n",
              "      <th>1</th>\n",
              "      <td>28.0</td>\n",
              "      <td>Female</td>\n",
              "      <td>Master's</td>\n",
              "      <td>Data Analyst</td>\n",
              "      <td>3.0</td>\n",
              "      <td>65000.0</td>\n",
              "    </tr>\n",
              "    <tr>\n",
              "      <th>2</th>\n",
              "      <td>45.0</td>\n",
              "      <td>Male</td>\n",
              "      <td>PhD</td>\n",
              "      <td>Senior Manager</td>\n",
              "      <td>15.0</td>\n",
              "      <td>150000.0</td>\n",
              "    </tr>\n",
              "    <tr>\n",
              "      <th>3</th>\n",
              "      <td>36.0</td>\n",
              "      <td>Female</td>\n",
              "      <td>Bachelor's</td>\n",
              "      <td>Sales Associate</td>\n",
              "      <td>7.0</td>\n",
              "      <td>60000.0</td>\n",
              "    </tr>\n",
              "    <tr>\n",
              "      <th>4</th>\n",
              "      <td>52.0</td>\n",
              "      <td>Male</td>\n",
              "      <td>Master's</td>\n",
              "      <td>Director</td>\n",
              "      <td>20.0</td>\n",
              "      <td>200000.0</td>\n",
              "    </tr>\n",
              "  </tbody>\n",
              "</table>\n",
              "</div>\n",
              "      <button class=\"colab-df-convert\" onclick=\"convertToInteractive('df-b6d03411-31a1-4252-a41e-945197469779')\"\n",
              "              title=\"Convert this dataframe to an interactive table.\"\n",
              "              style=\"display:none;\">\n",
              "        \n",
              "  <svg xmlns=\"http://www.w3.org/2000/svg\" height=\"24px\"viewBox=\"0 0 24 24\"\n",
              "       width=\"24px\">\n",
              "    <path d=\"M0 0h24v24H0V0z\" fill=\"none\"/>\n",
              "    <path d=\"M18.56 5.44l.94 2.06.94-2.06 2.06-.94-2.06-.94-.94-2.06-.94 2.06-2.06.94zm-11 1L8.5 8.5l.94-2.06 2.06-.94-2.06-.94L8.5 2.5l-.94 2.06-2.06.94zm10 10l.94 2.06.94-2.06 2.06-.94-2.06-.94-.94-2.06-.94 2.06-2.06.94z\"/><path d=\"M17.41 7.96l-1.37-1.37c-.4-.4-.92-.59-1.43-.59-.52 0-1.04.2-1.43.59L10.3 9.45l-7.72 7.72c-.78.78-.78 2.05 0 2.83L4 21.41c.39.39.9.59 1.41.59.51 0 1.02-.2 1.41-.59l7.78-7.78 2.81-2.81c.8-.78.8-2.07 0-2.86zM5.41 20L4 18.59l7.72-7.72 1.47 1.35L5.41 20z\"/>\n",
              "  </svg>\n",
              "      </button>\n",
              "      \n",
              "  <style>\n",
              "    .colab-df-container {\n",
              "      display:flex;\n",
              "      flex-wrap:wrap;\n",
              "      gap: 12px;\n",
              "    }\n",
              "\n",
              "    .colab-df-convert {\n",
              "      background-color: #E8F0FE;\n",
              "      border: none;\n",
              "      border-radius: 50%;\n",
              "      cursor: pointer;\n",
              "      display: none;\n",
              "      fill: #1967D2;\n",
              "      height: 32px;\n",
              "      padding: 0 0 0 0;\n",
              "      width: 32px;\n",
              "    }\n",
              "\n",
              "    .colab-df-convert:hover {\n",
              "      background-color: #E2EBFA;\n",
              "      box-shadow: 0px 1px 2px rgba(60, 64, 67, 0.3), 0px 1px 3px 1px rgba(60, 64, 67, 0.15);\n",
              "      fill: #174EA6;\n",
              "    }\n",
              "\n",
              "    [theme=dark] .colab-df-convert {\n",
              "      background-color: #3B4455;\n",
              "      fill: #D2E3FC;\n",
              "    }\n",
              "\n",
              "    [theme=dark] .colab-df-convert:hover {\n",
              "      background-color: #434B5C;\n",
              "      box-shadow: 0px 1px 3px 1px rgba(0, 0, 0, 0.15);\n",
              "      filter: drop-shadow(0px 1px 2px rgba(0, 0, 0, 0.3));\n",
              "      fill: #FFFFFF;\n",
              "    }\n",
              "  </style>\n",
              "\n",
              "      <script>\n",
              "        const buttonEl =\n",
              "          document.querySelector('#df-b6d03411-31a1-4252-a41e-945197469779 button.colab-df-convert');\n",
              "        buttonEl.style.display =\n",
              "          google.colab.kernel.accessAllowed ? 'block' : 'none';\n",
              "\n",
              "        async function convertToInteractive(key) {\n",
              "          const element = document.querySelector('#df-b6d03411-31a1-4252-a41e-945197469779');\n",
              "          const dataTable =\n",
              "            await google.colab.kernel.invokeFunction('convertToInteractive',\n",
              "                                                     [key], {});\n",
              "          if (!dataTable) return;\n",
              "\n",
              "          const docLinkHtml = 'Like what you see? Visit the ' +\n",
              "            '<a target=\"_blank\" href=https://colab.research.google.com/notebooks/data_table.ipynb>data table notebook</a>'\n",
              "            + ' to learn more about interactive tables.';\n",
              "          element.innerHTML = '';\n",
              "          dataTable['output_type'] = 'display_data';\n",
              "          await google.colab.output.renderOutput(dataTable, element);\n",
              "          const docLink = document.createElement('div');\n",
              "          docLink.innerHTML = docLinkHtml;\n",
              "          element.appendChild(docLink);\n",
              "        }\n",
              "      </script>\n",
              "    </div>\n",
              "  </div>\n",
              "  "
            ]
          },
          "metadata": {},
          "execution_count": 3
        }
      ]
    },
    {
      "cell_type": "code",
      "source": [
        "df.size"
      ],
      "metadata": {
        "colab": {
          "base_uri": "https://localhost:8080/"
        },
        "id": "cTjCUGOMawuz",
        "outputId": "4736277a-0d21-48ca-c06d-88c69fac712a"
      },
      "execution_count": 4,
      "outputs": [
        {
          "output_type": "execute_result",
          "data": {
            "text/plain": [
              "40224"
            ]
          },
          "metadata": {},
          "execution_count": 4
        }
      ]
    },
    {
      "cell_type": "code",
      "source": [
        "df.info()"
      ],
      "metadata": {
        "colab": {
          "base_uri": "https://localhost:8080/"
        },
        "id": "R1bZLbStpo3P",
        "outputId": "c4792401-3ee5-48bf-b3df-6ba1f828d640"
      },
      "execution_count": 5,
      "outputs": [
        {
          "output_type": "stream",
          "name": "stdout",
          "text": [
            "<class 'pandas.core.frame.DataFrame'>\n",
            "RangeIndex: 6704 entries, 0 to 6703\n",
            "Data columns (total 6 columns):\n",
            " #   Column               Non-Null Count  Dtype  \n",
            "---  ------               --------------  -----  \n",
            " 0   Age                  6702 non-null   float64\n",
            " 1   Gender               6702 non-null   object \n",
            " 2   Education Level      6701 non-null   object \n",
            " 3   Job Title            6702 non-null   object \n",
            " 4   Years of Experience  6701 non-null   float64\n",
            " 5   Salary               6699 non-null   float64\n",
            "dtypes: float64(3), object(3)\n",
            "memory usage: 314.4+ KB\n"
          ]
        }
      ]
    },
    {
      "cell_type": "code",
      "source": [
        "df.describe()"
      ],
      "metadata": {
        "colab": {
          "base_uri": "https://localhost:8080/",
          "height": 300
        },
        "id": "1hMkuiEtn096",
        "outputId": "eadf0ecc-bdb8-4cc5-d836-952a1a0db144"
      },
      "execution_count": 6,
      "outputs": [
        {
          "output_type": "execute_result",
          "data": {
            "text/plain": [
              "               Age  Years of Experience         Salary\n",
              "count  6702.000000          6701.000000    6699.000000\n",
              "mean     33.620859             8.094687  115326.964771\n",
              "std       7.614633             6.059003   52786.183911\n",
              "min      21.000000             0.000000     350.000000\n",
              "25%      28.000000             3.000000   70000.000000\n",
              "50%      32.000000             7.000000  115000.000000\n",
              "75%      38.000000            12.000000  160000.000000\n",
              "max      62.000000            34.000000  250000.000000"
            ],
            "text/html": [
              "\n",
              "  <div id=\"df-f2f0a544-fa3e-4906-bf74-e535c140b0c4\">\n",
              "    <div class=\"colab-df-container\">\n",
              "      <div>\n",
              "<style scoped>\n",
              "    .dataframe tbody tr th:only-of-type {\n",
              "        vertical-align: middle;\n",
              "    }\n",
              "\n",
              "    .dataframe tbody tr th {\n",
              "        vertical-align: top;\n",
              "    }\n",
              "\n",
              "    .dataframe thead th {\n",
              "        text-align: right;\n",
              "    }\n",
              "</style>\n",
              "<table border=\"1\" class=\"dataframe\">\n",
              "  <thead>\n",
              "    <tr style=\"text-align: right;\">\n",
              "      <th></th>\n",
              "      <th>Age</th>\n",
              "      <th>Years of Experience</th>\n",
              "      <th>Salary</th>\n",
              "    </tr>\n",
              "  </thead>\n",
              "  <tbody>\n",
              "    <tr>\n",
              "      <th>count</th>\n",
              "      <td>6702.000000</td>\n",
              "      <td>6701.000000</td>\n",
              "      <td>6699.000000</td>\n",
              "    </tr>\n",
              "    <tr>\n",
              "      <th>mean</th>\n",
              "      <td>33.620859</td>\n",
              "      <td>8.094687</td>\n",
              "      <td>115326.964771</td>\n",
              "    </tr>\n",
              "    <tr>\n",
              "      <th>std</th>\n",
              "      <td>7.614633</td>\n",
              "      <td>6.059003</td>\n",
              "      <td>52786.183911</td>\n",
              "    </tr>\n",
              "    <tr>\n",
              "      <th>min</th>\n",
              "      <td>21.000000</td>\n",
              "      <td>0.000000</td>\n",
              "      <td>350.000000</td>\n",
              "    </tr>\n",
              "    <tr>\n",
              "      <th>25%</th>\n",
              "      <td>28.000000</td>\n",
              "      <td>3.000000</td>\n",
              "      <td>70000.000000</td>\n",
              "    </tr>\n",
              "    <tr>\n",
              "      <th>50%</th>\n",
              "      <td>32.000000</td>\n",
              "      <td>7.000000</td>\n",
              "      <td>115000.000000</td>\n",
              "    </tr>\n",
              "    <tr>\n",
              "      <th>75%</th>\n",
              "      <td>38.000000</td>\n",
              "      <td>12.000000</td>\n",
              "      <td>160000.000000</td>\n",
              "    </tr>\n",
              "    <tr>\n",
              "      <th>max</th>\n",
              "      <td>62.000000</td>\n",
              "      <td>34.000000</td>\n",
              "      <td>250000.000000</td>\n",
              "    </tr>\n",
              "  </tbody>\n",
              "</table>\n",
              "</div>\n",
              "      <button class=\"colab-df-convert\" onclick=\"convertToInteractive('df-f2f0a544-fa3e-4906-bf74-e535c140b0c4')\"\n",
              "              title=\"Convert this dataframe to an interactive table.\"\n",
              "              style=\"display:none;\">\n",
              "        \n",
              "  <svg xmlns=\"http://www.w3.org/2000/svg\" height=\"24px\"viewBox=\"0 0 24 24\"\n",
              "       width=\"24px\">\n",
              "    <path d=\"M0 0h24v24H0V0z\" fill=\"none\"/>\n",
              "    <path d=\"M18.56 5.44l.94 2.06.94-2.06 2.06-.94-2.06-.94-.94-2.06-.94 2.06-2.06.94zm-11 1L8.5 8.5l.94-2.06 2.06-.94-2.06-.94L8.5 2.5l-.94 2.06-2.06.94zm10 10l.94 2.06.94-2.06 2.06-.94-2.06-.94-.94-2.06-.94 2.06-2.06.94z\"/><path d=\"M17.41 7.96l-1.37-1.37c-.4-.4-.92-.59-1.43-.59-.52 0-1.04.2-1.43.59L10.3 9.45l-7.72 7.72c-.78.78-.78 2.05 0 2.83L4 21.41c.39.39.9.59 1.41.59.51 0 1.02-.2 1.41-.59l7.78-7.78 2.81-2.81c.8-.78.8-2.07 0-2.86zM5.41 20L4 18.59l7.72-7.72 1.47 1.35L5.41 20z\"/>\n",
              "  </svg>\n",
              "      </button>\n",
              "      \n",
              "  <style>\n",
              "    .colab-df-container {\n",
              "      display:flex;\n",
              "      flex-wrap:wrap;\n",
              "      gap: 12px;\n",
              "    }\n",
              "\n",
              "    .colab-df-convert {\n",
              "      background-color: #E8F0FE;\n",
              "      border: none;\n",
              "      border-radius: 50%;\n",
              "      cursor: pointer;\n",
              "      display: none;\n",
              "      fill: #1967D2;\n",
              "      height: 32px;\n",
              "      padding: 0 0 0 0;\n",
              "      width: 32px;\n",
              "    }\n",
              "\n",
              "    .colab-df-convert:hover {\n",
              "      background-color: #E2EBFA;\n",
              "      box-shadow: 0px 1px 2px rgba(60, 64, 67, 0.3), 0px 1px 3px 1px rgba(60, 64, 67, 0.15);\n",
              "      fill: #174EA6;\n",
              "    }\n",
              "\n",
              "    [theme=dark] .colab-df-convert {\n",
              "      background-color: #3B4455;\n",
              "      fill: #D2E3FC;\n",
              "    }\n",
              "\n",
              "    [theme=dark] .colab-df-convert:hover {\n",
              "      background-color: #434B5C;\n",
              "      box-shadow: 0px 1px 3px 1px rgba(0, 0, 0, 0.15);\n",
              "      filter: drop-shadow(0px 1px 2px rgba(0, 0, 0, 0.3));\n",
              "      fill: #FFFFFF;\n",
              "    }\n",
              "  </style>\n",
              "\n",
              "      <script>\n",
              "        const buttonEl =\n",
              "          document.querySelector('#df-f2f0a544-fa3e-4906-bf74-e535c140b0c4 button.colab-df-convert');\n",
              "        buttonEl.style.display =\n",
              "          google.colab.kernel.accessAllowed ? 'block' : 'none';\n",
              "\n",
              "        async function convertToInteractive(key) {\n",
              "          const element = document.querySelector('#df-f2f0a544-fa3e-4906-bf74-e535c140b0c4');\n",
              "          const dataTable =\n",
              "            await google.colab.kernel.invokeFunction('convertToInteractive',\n",
              "                                                     [key], {});\n",
              "          if (!dataTable) return;\n",
              "\n",
              "          const docLinkHtml = 'Like what you see? Visit the ' +\n",
              "            '<a target=\"_blank\" href=https://colab.research.google.com/notebooks/data_table.ipynb>data table notebook</a>'\n",
              "            + ' to learn more about interactive tables.';\n",
              "          element.innerHTML = '';\n",
              "          dataTable['output_type'] = 'display_data';\n",
              "          await google.colab.output.renderOutput(dataTable, element);\n",
              "          const docLink = document.createElement('div');\n",
              "          docLink.innerHTML = docLinkHtml;\n",
              "          element.appendChild(docLink);\n",
              "        }\n",
              "      </script>\n",
              "    </div>\n",
              "  </div>\n",
              "  "
            ]
          },
          "metadata": {},
          "execution_count": 6
        }
      ]
    },
    {
      "cell_type": "markdown",
      "source": [
        "We have a minimum salary of $350 a year, it's unlikely. We will address this type of issue later on in outliers detection and data visualization."
      ],
      "metadata": {
        "id": "vX-Zlewr2GHI"
      }
    },
    {
      "cell_type": "markdown",
      "source": [
        "##**Data cleaning**\n",
        "We begin by displaying the data types of the columns in the dataset."
      ],
      "metadata": {
        "id": "bn5FhbVtdDuL"
      }
    },
    {
      "cell_type": "code",
      "source": [
        "df.dtypes"
      ],
      "metadata": {
        "colab": {
          "base_uri": "https://localhost:8080/"
        },
        "id": "-fDIY6DgdUin",
        "outputId": "c32ae755-d723-4f5b-b995-d9fc9eea0a23"
      },
      "execution_count": 7,
      "outputs": [
        {
          "output_type": "execute_result",
          "data": {
            "text/plain": [
              "Age                    float64\n",
              "Gender                  object\n",
              "Education Level         object\n",
              "Job Title               object\n",
              "Years of Experience    float64\n",
              "Salary                 float64\n",
              "dtype: object"
            ]
          },
          "metadata": {},
          "execution_count": 7
        }
      ]
    },
    {
      "cell_type": "markdown",
      "source": [
        "Everything seems to be ok. Now, let's make the name of the columns consistent."
      ],
      "metadata": {
        "id": "mWz57Yb7d8zC"
      }
    },
    {
      "cell_type": "code",
      "source": [
        "colnames = {'Education Level' : 'education_level',\t'Job Title' :\t'job_title', 'Years of Experience' : 'years_of_experience'}\n",
        "df = df.rename(colnames, axis='columns')\n",
        "df.columns"
      ],
      "metadata": {
        "colab": {
          "base_uri": "https://localhost:8080/"
        },
        "id": "Z-lX5O9W4Iqf",
        "outputId": "30e9371d-6fb4-4d4a-e175-85800f77460d"
      },
      "execution_count": 8,
      "outputs": [
        {
          "output_type": "execute_result",
          "data": {
            "text/plain": [
              "Index(['Age', 'Gender', 'education_level', 'job_title', 'years_of_experience',\n",
              "       'Salary'],\n",
              "      dtype='object')"
            ]
          },
          "metadata": {},
          "execution_count": 8
        }
      ]
    },
    {
      "cell_type": "code",
      "source": [
        "df.columns = [x.lower() for x in df.columns]"
      ],
      "metadata": {
        "id": "Xik7dy7ohBGe"
      },
      "execution_count": 9,
      "outputs": []
    },
    {
      "cell_type": "code",
      "source": [
        "df.head()"
      ],
      "metadata": {
        "colab": {
          "base_uri": "https://localhost:8080/",
          "height": 206
        },
        "id": "rThOP5OU6PX_",
        "outputId": "f7c9faa4-08f7-4db0-afab-1b08b6e6bfd1"
      },
      "execution_count": 10,
      "outputs": [
        {
          "output_type": "execute_result",
          "data": {
            "text/plain": [
              "    age  gender education_level          job_title  years_of_experience  \\\n",
              "0  32.0    Male      Bachelor's  Software Engineer                  5.0   \n",
              "1  28.0  Female        Master's       Data Analyst                  3.0   \n",
              "2  45.0    Male             PhD     Senior Manager                 15.0   \n",
              "3  36.0  Female      Bachelor's    Sales Associate                  7.0   \n",
              "4  52.0    Male        Master's           Director                 20.0   \n",
              "\n",
              "     salary  \n",
              "0   90000.0  \n",
              "1   65000.0  \n",
              "2  150000.0  \n",
              "3   60000.0  \n",
              "4  200000.0  "
            ],
            "text/html": [
              "\n",
              "  <div id=\"df-a7e36f2d-2941-4749-a385-6ac3ff836e57\">\n",
              "    <div class=\"colab-df-container\">\n",
              "      <div>\n",
              "<style scoped>\n",
              "    .dataframe tbody tr th:only-of-type {\n",
              "        vertical-align: middle;\n",
              "    }\n",
              "\n",
              "    .dataframe tbody tr th {\n",
              "        vertical-align: top;\n",
              "    }\n",
              "\n",
              "    .dataframe thead th {\n",
              "        text-align: right;\n",
              "    }\n",
              "</style>\n",
              "<table border=\"1\" class=\"dataframe\">\n",
              "  <thead>\n",
              "    <tr style=\"text-align: right;\">\n",
              "      <th></th>\n",
              "      <th>age</th>\n",
              "      <th>gender</th>\n",
              "      <th>education_level</th>\n",
              "      <th>job_title</th>\n",
              "      <th>years_of_experience</th>\n",
              "      <th>salary</th>\n",
              "    </tr>\n",
              "  </thead>\n",
              "  <tbody>\n",
              "    <tr>\n",
              "      <th>0</th>\n",
              "      <td>32.0</td>\n",
              "      <td>Male</td>\n",
              "      <td>Bachelor's</td>\n",
              "      <td>Software Engineer</td>\n",
              "      <td>5.0</td>\n",
              "      <td>90000.0</td>\n",
              "    </tr>\n",
              "    <tr>\n",
              "      <th>1</th>\n",
              "      <td>28.0</td>\n",
              "      <td>Female</td>\n",
              "      <td>Master's</td>\n",
              "      <td>Data Analyst</td>\n",
              "      <td>3.0</td>\n",
              "      <td>65000.0</td>\n",
              "    </tr>\n",
              "    <tr>\n",
              "      <th>2</th>\n",
              "      <td>45.0</td>\n",
              "      <td>Male</td>\n",
              "      <td>PhD</td>\n",
              "      <td>Senior Manager</td>\n",
              "      <td>15.0</td>\n",
              "      <td>150000.0</td>\n",
              "    </tr>\n",
              "    <tr>\n",
              "      <th>3</th>\n",
              "      <td>36.0</td>\n",
              "      <td>Female</td>\n",
              "      <td>Bachelor's</td>\n",
              "      <td>Sales Associate</td>\n",
              "      <td>7.0</td>\n",
              "      <td>60000.0</td>\n",
              "    </tr>\n",
              "    <tr>\n",
              "      <th>4</th>\n",
              "      <td>52.0</td>\n",
              "      <td>Male</td>\n",
              "      <td>Master's</td>\n",
              "      <td>Director</td>\n",
              "      <td>20.0</td>\n",
              "      <td>200000.0</td>\n",
              "    </tr>\n",
              "  </tbody>\n",
              "</table>\n",
              "</div>\n",
              "      <button class=\"colab-df-convert\" onclick=\"convertToInteractive('df-a7e36f2d-2941-4749-a385-6ac3ff836e57')\"\n",
              "              title=\"Convert this dataframe to an interactive table.\"\n",
              "              style=\"display:none;\">\n",
              "        \n",
              "  <svg xmlns=\"http://www.w3.org/2000/svg\" height=\"24px\"viewBox=\"0 0 24 24\"\n",
              "       width=\"24px\">\n",
              "    <path d=\"M0 0h24v24H0V0z\" fill=\"none\"/>\n",
              "    <path d=\"M18.56 5.44l.94 2.06.94-2.06 2.06-.94-2.06-.94-.94-2.06-.94 2.06-2.06.94zm-11 1L8.5 8.5l.94-2.06 2.06-.94-2.06-.94L8.5 2.5l-.94 2.06-2.06.94zm10 10l.94 2.06.94-2.06 2.06-.94-2.06-.94-.94-2.06-.94 2.06-2.06.94z\"/><path d=\"M17.41 7.96l-1.37-1.37c-.4-.4-.92-.59-1.43-.59-.52 0-1.04.2-1.43.59L10.3 9.45l-7.72 7.72c-.78.78-.78 2.05 0 2.83L4 21.41c.39.39.9.59 1.41.59.51 0 1.02-.2 1.41-.59l7.78-7.78 2.81-2.81c.8-.78.8-2.07 0-2.86zM5.41 20L4 18.59l7.72-7.72 1.47 1.35L5.41 20z\"/>\n",
              "  </svg>\n",
              "      </button>\n",
              "      \n",
              "  <style>\n",
              "    .colab-df-container {\n",
              "      display:flex;\n",
              "      flex-wrap:wrap;\n",
              "      gap: 12px;\n",
              "    }\n",
              "\n",
              "    .colab-df-convert {\n",
              "      background-color: #E8F0FE;\n",
              "      border: none;\n",
              "      border-radius: 50%;\n",
              "      cursor: pointer;\n",
              "      display: none;\n",
              "      fill: #1967D2;\n",
              "      height: 32px;\n",
              "      padding: 0 0 0 0;\n",
              "      width: 32px;\n",
              "    }\n",
              "\n",
              "    .colab-df-convert:hover {\n",
              "      background-color: #E2EBFA;\n",
              "      box-shadow: 0px 1px 2px rgba(60, 64, 67, 0.3), 0px 1px 3px 1px rgba(60, 64, 67, 0.15);\n",
              "      fill: #174EA6;\n",
              "    }\n",
              "\n",
              "    [theme=dark] .colab-df-convert {\n",
              "      background-color: #3B4455;\n",
              "      fill: #D2E3FC;\n",
              "    }\n",
              "\n",
              "    [theme=dark] .colab-df-convert:hover {\n",
              "      background-color: #434B5C;\n",
              "      box-shadow: 0px 1px 3px 1px rgba(0, 0, 0, 0.15);\n",
              "      filter: drop-shadow(0px 1px 2px rgba(0, 0, 0, 0.3));\n",
              "      fill: #FFFFFF;\n",
              "    }\n",
              "  </style>\n",
              "\n",
              "      <script>\n",
              "        const buttonEl =\n",
              "          document.querySelector('#df-a7e36f2d-2941-4749-a385-6ac3ff836e57 button.colab-df-convert');\n",
              "        buttonEl.style.display =\n",
              "          google.colab.kernel.accessAllowed ? 'block' : 'none';\n",
              "\n",
              "        async function convertToInteractive(key) {\n",
              "          const element = document.querySelector('#df-a7e36f2d-2941-4749-a385-6ac3ff836e57');\n",
              "          const dataTable =\n",
              "            await google.colab.kernel.invokeFunction('convertToInteractive',\n",
              "                                                     [key], {});\n",
              "          if (!dataTable) return;\n",
              "\n",
              "          const docLinkHtml = 'Like what you see? Visit the ' +\n",
              "            '<a target=\"_blank\" href=https://colab.research.google.com/notebooks/data_table.ipynb>data table notebook</a>'\n",
              "            + ' to learn more about interactive tables.';\n",
              "          element.innerHTML = '';\n",
              "          dataTable['output_type'] = 'display_data';\n",
              "          await google.colab.output.renderOutput(dataTable, element);\n",
              "          const docLink = document.createElement('div');\n",
              "          docLink.innerHTML = docLinkHtml;\n",
              "          element.appendChild(docLink);\n",
              "        }\n",
              "      </script>\n",
              "    </div>\n",
              "  </div>\n",
              "  "
            ]
          },
          "metadata": {},
          "execution_count": 10
        }
      ]
    },
    {
      "cell_type": "markdown",
      "source": [
        "###**Time to deal with missing data**"
      ],
      "metadata": {
        "id": "UKAWxEA_gVJo"
      }
    },
    {
      "cell_type": "code",
      "source": [
        "df.isnull().sum()\n"
      ],
      "metadata": {
        "colab": {
          "base_uri": "https://localhost:8080/"
        },
        "id": "6LAB8rLkoN56",
        "outputId": "35ac0e50-3d09-4bfb-80e4-39168f7f283f"
      },
      "execution_count": 11,
      "outputs": [
        {
          "output_type": "execute_result",
          "data": {
            "text/plain": [
              "age                    2\n",
              "gender                 2\n",
              "education_level        3\n",
              "job_title              2\n",
              "years_of_experience    3\n",
              "salary                 5\n",
              "dtype: int64"
            ]
          },
          "metadata": {},
          "execution_count": 11
        }
      ]
    },
    {
      "cell_type": "code",
      "source": [
        "from matplotlib import pyplot as plt\n",
        "df_na = (df.isnull().sum()/len(df))*100\n",
        "df_na = df_na.drop(df_na[df_na == 0].index).sort_values(ascending=False)\n",
        "f, ax = plt.subplots(figsize=(6,4))\n",
        "plt.xticks(rotation=90)\n",
        "sns.barplot(x=df_na.index, y=df_na)\n",
        "ax.set(title='percentage of missing data by features' , ylabel='percentage missing')\n",
        "plt.show"
      ],
      "metadata": {
        "colab": {
          "base_uri": "https://localhost:8080/",
          "height": 536
        },
        "id": "YBSxxjpSpYVB",
        "outputId": "a8c3b61a-7301-47ca-f829-0d4fbba53b44"
      },
      "execution_count": 12,
      "outputs": [
        {
          "output_type": "execute_result",
          "data": {
            "text/plain": [
              "<function matplotlib.pyplot.show(close=None, block=None)>"
            ]
          },
          "metadata": {},
          "execution_count": 12
        },
        {
          "output_type": "display_data",
          "data": {
            "text/plain": [
              "<Figure size 600x400 with 1 Axes>"
            ],
            "image/png": "[encoded data removed]"
          },
          "metadata": {}
        }
      ]
    },
    {
      "cell_type": "markdown",
      "source": [
        "Regarding this scenario, we will use two approaches to deal with missing data:\n",
        "\n",
        "1. Drop data\n",
        " * Drop the whole row\n",
        "2. Replace data\n",
        " * Replace it by mean\n",
        " * Replace it by frequency\n",
        "\n",
        "**Drop the whole row**\n",
        "\n",
        "As salary, education level and years of experience widely matter, it would be appropriate to process them by deleting the whole row of data entries with missing values. Since the missing values in these columns represent less than 0.08%, 0.05%, 0.05% respectively, for salary, education level and years of experience. We can remove them safely without getting in the way of analysis. Therefore any row without value in these columns is not useful.\n",
        "\n",
        "**Replace by mean**\n",
        "\n",
        "Age has two missing data we can replace it with mean.\n",
        "\n",
        "**Replace by frequency**\n",
        "\n",
        "job title and gender can be processed with the frequency."
      ],
      "metadata": {
        "id": "jJRJ5WGohCrM"
      }
    },
    {
      "cell_type": "markdown",
      "source": [
        "We replace missing value in age by the mean (average) of the column."
      ],
      "metadata": {
        "id": "_ubV-ec5xHHq"
      }
    },
    {
      "cell_type": "code",
      "source": [
        "# compute the mean value for age\n",
        "import numpy as np\n",
        "avg_age = df['age'].mean(axis=0)\n",
        "df['age'].replace(np.nan, avg_age, inplace=True)"
      ],
      "metadata": {
        "id": "KthBBBllvveI"
      },
      "execution_count": 13,
      "outputs": []
    },
    {
      "cell_type": "markdown",
      "source": [
        "Let's replace the missing data in job title and gender with the frequency.\n"
      ],
      "metadata": {
        "id": "tQ35i9psxIiE"
      }
    },
    {
      "cell_type": "code",
      "source": [
        "col = ['job_title', 'gender']\n",
        "for c in col:\n",
        "  a=df[c].value_counts().idxmax()\n",
        "  print(f\"The most common type of {c} is {a} \\n\")"
      ],
      "metadata": {
        "colab": {
          "base_uri": "https://localhost:8080/"
        },
        "id": "oijLM2UPw8HW",
        "outputId": "23f4548e-6114-4098-8d33-8bc2047fd7b3"
      },
      "execution_count": 14,
      "outputs": [
        {
          "output_type": "stream",
          "name": "stdout",
          "text": [
            "The most common type of job_title is Software Engineer \n",
            "\n",
            "The most common type of gender is Male \n",
            "\n"
          ]
        }
      ]
    },
    {
      "cell_type": "code",
      "source": [
        "df['gender'].replace(np.nan, \"Male\", inplace = True)\n",
        "df['job_title'].replace(np.nan, \"Software Engineer\", inplace = True)"
      ],
      "metadata": {
        "id": "F7RV_m2M0HGG"
      },
      "execution_count": 15,
      "outputs": []
    },
    {
      "cell_type": "markdown",
      "source": [
        "Now, we drop the missing data in the columns `education_level`, `years_of_experience` and `salary`."
      ],
      "metadata": {
        "id": "bUaj9OYV2I1o"
      }
    },
    {
      "cell_type": "code",
      "source": [
        "df.dropna(subset=['salary', 'years_of_experience', 'education_level'], axis='index', inplace =True)"
      ],
      "metadata": {
        "id": "BDyxnb7X2IDk"
      },
      "execution_count": 16,
      "outputs": []
    },
    {
      "cell_type": "markdown",
      "source": [
        "We run the following code to verify that all the missing data have been correctly addressed."
      ],
      "metadata": {
        "id": "Udb_BxA33ZzG"
      }
    },
    {
      "cell_type": "code",
      "source": [
        "df.isnull().sum()"
      ],
      "metadata": {
        "colab": {
          "base_uri": "https://localhost:8080/"
        },
        "id": "H4sibX7T1lmY",
        "outputId": "cd4121cb-767d-4d70-ef6c-75c37f0c55a5"
      },
      "execution_count": 17,
      "outputs": [
        {
          "output_type": "execute_result",
          "data": {
            "text/plain": [
              "age                    0\n",
              "gender                 0\n",
              "education_level        0\n",
              "job_title              0\n",
              "years_of_experience    0\n",
              "salary                 0\n",
              "dtype: int64"
            ]
          },
          "metadata": {},
          "execution_count": 17
        }
      ]
    },
    {
      "cell_type": "markdown",
      "source": [
        "###**Input validation**"
      ],
      "metadata": {
        "id": "Why_-cz5SLz5"
      }
    },
    {
      "cell_type": "markdown",
      "source": [
        "The data has some issues with bad data, duplicate rows, and inconsistent labels."
      ],
      "metadata": {
        "id": "-MhXiV-lTdQ2"
      }
    },
    {
      "cell_type": "markdown",
      "source": [
        "It looks like the value in the column `education_level` need to be consistent. Let's do this."
      ],
      "metadata": {
        "id": "trf-K63O34ad"
      }
    },
    {
      "cell_type": "code",
      "source": [
        "df['education_level'].unique()"
      ],
      "metadata": {
        "colab": {
          "base_uri": "https://localhost:8080/"
        },
        "id": "sIiD6VPF9IBf",
        "outputId": "3ac3e6a8-76ff-40a2-a20c-0f1e9b998135"
      },
      "execution_count": 18,
      "outputs": [
        {
          "output_type": "execute_result",
          "data": {
            "text/plain": [
              "array([\"Bachelor's\", \"Master's\", 'PhD', \"Bachelor's Degree\",\n",
              "       \"Master's Degree\", 'High School', 'phD'], dtype=object)"
            ]
          },
          "metadata": {},
          "execution_count": 18
        }
      ]
    },
    {
      "cell_type": "code",
      "source": [
        "value_update = {\"Bachelor's Degree\" : \"Bachelor's\", \"Master's Degree\" : \"Master's\", 'phD' : 'PhD'}\n",
        "df['education_level'] = df['education_level'].replace(value_update)\n",
        "df['education_level'].unique()"
      ],
      "metadata": {
        "colab": {
          "base_uri": "https://localhost:8080/"
        },
        "id": "1gwLXCuRYuDd",
        "outputId": "6bc40260-adfe-42bb-e9c2-9d78fb769daf"
      },
      "execution_count": 19,
      "outputs": [
        {
          "output_type": "execute_result",
          "data": {
            "text/plain": [
              "array([\"Bachelor's\", \"Master's\", 'PhD', 'High School'], dtype=object)"
            ]
          },
          "metadata": {},
          "execution_count": 19
        }
      ]
    },
    {
      "cell_type": "markdown",
      "source": [
        "Let's take a look in the values of the other columns."
      ],
      "metadata": {
        "id": "2_03MABz4bdf"
      }
    },
    {
      "cell_type": "code",
      "source": [
        "df['gender'].unique()"
      ],
      "metadata": {
        "colab": {
          "base_uri": "https://localhost:8080/"
        },
        "id": "DUO9Eg-Gawk5",
        "outputId": "b34400b2-bdab-494b-e079-c8f6fe12f213"
      },
      "execution_count": 20,
      "outputs": [
        {
          "output_type": "execute_result",
          "data": {
            "text/plain": [
              "array(['Male', 'Female', 'Other'], dtype=object)"
            ]
          },
          "metadata": {},
          "execution_count": 20
        }
      ]
    },
    {
      "cell_type": "code",
      "source": [
        "df['job_title'].unique()"
      ],
      "metadata": {
        "colab": {
          "base_uri": "https://localhost:8080/"
        },
        "id": "vV7ey_LXbhdW",
        "outputId": "6d62ddd0-0ebe-456a-b9b1-8cfa183c68b2"
      },
      "execution_count": 21,
      "outputs": [
        {
          "output_type": "execute_result",
          "data": {
            "text/plain": [
              "array(['Software Engineer', 'Data Analyst', 'Senior Manager',\n",
              "       'Sales Associate', 'Director', 'Marketing Analyst',\n",
              "       'Product Manager', 'Sales Manager', 'Marketing Coordinator',\n",
              "       'Senior Scientist', 'Software Developer', 'HR Manager',\n",
              "       'Financial Analyst', 'Project Manager', 'Customer Service Rep',\n",
              "       'Operations Manager', 'Marketing Manager', 'Senior Engineer',\n",
              "       'Data Entry Clerk', 'Sales Director', 'Business Analyst',\n",
              "       'VP of Operations', 'IT Support', 'Recruiter', 'Financial Manager',\n",
              "       'Social Media Specialist', 'Software Manager', 'Junior Developer',\n",
              "       'Senior Consultant', 'Product Designer', 'CEO', 'Accountant',\n",
              "       'Data Scientist', 'Marketing Specialist', 'Technical Writer',\n",
              "       'HR Generalist', 'Project Engineer', 'Customer Success Rep',\n",
              "       'Sales Executive', 'UX Designer', 'Operations Director',\n",
              "       'Network Engineer', 'Administrative Assistant',\n",
              "       'Strategy Consultant', 'Copywriter', 'Account Manager',\n",
              "       'Director of Marketing', 'Help Desk Analyst',\n",
              "       'Customer Service Manager', 'Business Intelligence Analyst',\n",
              "       'Event Coordinator', 'VP of Finance', 'Graphic Designer',\n",
              "       'UX Researcher', 'Social Media Manager', 'Director of Operations',\n",
              "       'Senior Data Scientist', 'Junior Accountant',\n",
              "       'Digital Marketing Manager', 'IT Manager',\n",
              "       'Customer Service Representative', 'Business Development Manager',\n",
              "       'Senior Financial Analyst', 'Web Developer', 'Research Director',\n",
              "       'Technical Support Specialist', 'Creative Director',\n",
              "       'Senior Software Engineer', 'Human Resources Director',\n",
              "       'Content Marketing Manager', 'Technical Recruiter',\n",
              "       'Sales Representative', 'Chief Technology Officer',\n",
              "       'Junior Designer', 'Financial Advisor', 'Junior Account Manager',\n",
              "       'Senior Project Manager', 'Principal Scientist',\n",
              "       'Supply Chain Manager', 'Senior Marketing Manager',\n",
              "       'Training Specialist', 'Research Scientist',\n",
              "       'Junior Software Developer', 'Public Relations Manager',\n",
              "       'Operations Analyst', 'Product Marketing Manager',\n",
              "       'Senior HR Manager', 'Junior Web Developer',\n",
              "       'Senior Project Coordinator', 'Chief Data Officer',\n",
              "       'Digital Content Producer', 'IT Support Specialist',\n",
              "       'Senior Marketing Analyst', 'Customer Success Manager',\n",
              "       'Senior Graphic Designer', 'Software Project Manager',\n",
              "       'Supply Chain Analyst', 'Senior Business Analyst',\n",
              "       'Junior Marketing Analyst', 'Office Manager', 'Principal Engineer',\n",
              "       'Junior HR Generalist', 'Senior Product Manager',\n",
              "       'Junior Operations Analyst', 'Senior HR Generalist',\n",
              "       'Sales Operations Manager', 'Senior Software Developer',\n",
              "       'Junior Web Designer', 'Senior Training Specialist',\n",
              "       'Senior Research Scientist', 'Junior Sales Representative',\n",
              "       'Junior Marketing Manager', 'Junior Data Analyst',\n",
              "       'Senior Product Marketing Manager', 'Junior Business Analyst',\n",
              "       'Senior Sales Manager', 'Junior Marketing Specialist',\n",
              "       'Junior Project Manager', 'Senior Accountant', 'Director of Sales',\n",
              "       'Junior Recruiter', 'Senior Business Development Manager',\n",
              "       'Senior Product Designer', 'Junior Customer Support Specialist',\n",
              "       'Senior IT Support Specialist', 'Junior Financial Analyst',\n",
              "       'Senior Operations Manager', 'Director of Human Resources',\n",
              "       'Junior Software Engineer', 'Senior Sales Representative',\n",
              "       'Director of Product Management', 'Junior Copywriter',\n",
              "       'Senior Marketing Coordinator', 'Senior Human Resources Manager',\n",
              "       'Junior Business Development Associate', 'Senior Account Manager',\n",
              "       'Senior Researcher', 'Junior HR Coordinator',\n",
              "       'Director of Finance', 'Junior Marketing Coordinator',\n",
              "       'Junior Data Scientist', 'Senior Operations Analyst',\n",
              "       'Senior Human Resources Coordinator', 'Senior UX Designer',\n",
              "       'Junior Product Manager', 'Senior Marketing Specialist',\n",
              "       'Senior IT Project Manager', 'Senior Quality Assurance Analyst',\n",
              "       'Director of Sales and Marketing', 'Senior Account Executive',\n",
              "       'Director of Business Development', 'Junior Social Media Manager',\n",
              "       'Senior Human Resources Specialist', 'Senior Data Analyst',\n",
              "       'Director of Human Capital', 'Junior Advertising Coordinator',\n",
              "       'Junior UX Designer', 'Senior Marketing Director',\n",
              "       'Senior IT Consultant', 'Senior Financial Advisor',\n",
              "       'Junior Business Operations Analyst',\n",
              "       'Junior Social Media Specialist',\n",
              "       'Senior Product Development Manager', 'Junior Operations Manager',\n",
              "       'Senior Software Architect', 'Junior Research Scientist',\n",
              "       'Senior Financial Manager', 'Senior HR Specialist',\n",
              "       'Senior Data Engineer', 'Junior Operations Coordinator',\n",
              "       'Director of HR', 'Senior Operations Coordinator',\n",
              "       'Junior Financial Advisor', 'Director of Engineering',\n",
              "       'Software Engineer Manager', 'Back end Developer',\n",
              "       'Senior Project Engineer', 'Full Stack Engineer',\n",
              "       'Front end Developer', 'Front End Developer',\n",
              "       'Director of Data Science', 'Human Resources Coordinator',\n",
              "       'Junior Sales Associate', 'Human Resources Manager',\n",
              "       'Juniour HR Generalist', 'Juniour HR Coordinator',\n",
              "       'Digital Marketing Specialist', 'Receptionist',\n",
              "       'Marketing Director', 'Social Media Man', 'Delivery Driver'],\n",
              "      dtype=object)"
            ]
          },
          "metadata": {},
          "execution_count": 21
        }
      ]
    },
    {
      "cell_type": "code",
      "source": [
        "df['job_title'].nunique()"
      ],
      "metadata": {
        "colab": {
          "base_uri": "https://localhost:8080/"
        },
        "id": "WDdAIfOtbwMv",
        "outputId": "e2c0e245-927c-4fdf-d4eb-6e71f5bdec38"
      },
      "execution_count": 22,
      "outputs": [
        {
          "output_type": "execute_result",
          "data": {
            "text/plain": [
              "191"
            ]
          },
          "metadata": {},
          "execution_count": 22
        }
      ]
    },
    {
      "cell_type": "markdown",
      "source": [
        "###**Duplicates**"
      ],
      "metadata": {
        "id": "gxo5PkAtUHYY"
      }
    },
    {
      "cell_type": "markdown",
      "source": [
        "Let's see how many duplicates there might be in the dataset."
      ],
      "metadata": {
        "id": "vtMqoo0BUQJV"
      }
    },
    {
      "cell_type": "code",
      "source": [
        "df.duplicated().sum()"
      ],
      "metadata": {
        "colab": {
          "base_uri": "https://localhost:8080/"
        },
        "id": "KKpEoIyqb47Y",
        "outputId": "9cc22b33-d89f-44c9-a86d-d3045a151f74"
      },
      "execution_count": 23,
      "outputs": [
        {
          "output_type": "execute_result",
          "data": {
            "text/plain": [
              "4912"
            ]
          },
          "metadata": {},
          "execution_count": 23
        }
      ]
    },
    {
      "cell_type": "markdown",
      "source": [
        "The best approach to handle duplicates is to wonder how these duplicates might affect the analysis. Since the data were obtained from multiple sources, including surveys, job posting sites, and other publicly available sources. It was to be expected to have some data points with similar input and without getting in the way of analysis. Therefore, we've decided not to remove the duplicated values."
      ],
      "metadata": {
        "id": "2FpjkBvUU3PU"
      }
    },
    {
      "cell_type": "markdown",
      "source": [
        "###**Outliers**"
      ],
      "metadata": {
        "id": "89lwnnfxX4tc"
      }
    },
    {
      "cell_type": "markdown",
      "source": [
        "Now that we know which data columns we’ll use, it is time to decide which data visualization\n",
        "makes the most sense for EDA of the dataset.\n",
        "\n",
        "A box plot will be helpful to determine outliers and where the bulk of the data points reside in terms\n",
        "of salary, years of experience.\n",
        "A scatter plot will be helpful to visualize the trends and patters and outliers of critical variables,\n",
        "such as years of experience and salary\n",
        "A bar chart will help determine average number of salary by job title and education_level, etc.\n"
      ],
      "metadata": {
        "id": "XKTiqdIkb0KB"
      }
    },
    {
      "cell_type": "code",
      "source": [
        "# Create boxplot\n",
        "# Set the figure size\n",
        "plt.rcParams[\"figure.figsize\"] = [7.50, 3.50]\n",
        "plt.rcParams[\"figure.autolayout\"] = True\n",
        "# Plot the dataframe\n",
        "df[['age', 'years_of_experience', 'salary']].plot(kind='box', title='boxplot')\n",
        "# Display the plot\n",
        "plt.show()\n"
      ],
      "metadata": {
        "colab": {
          "base_uri": "https://localhost:8080/",
          "height": 357
        },
        "id": "IuCiA0k5snvB",
        "outputId": "dccbf7ea-a379-4ab4-a955-f921541d8f44"
      },
      "execution_count": 24,
      "outputs": [
        {
          "output_type": "display_data",
          "data": {
            "text/plain": [
              "<Figure size 750x350 with 1 Axes>"
            ],
            "image/png": "[encoded data removed]"
          },
          "metadata": {}
        }
      ]
    },
    {
      "cell_type": "markdown",
      "source": [
        "Since only age and years of experience possess outliers, let's zero in on these specific columns."
      ],
      "metadata": {
        "id": "zHkI435mZ546"
      }
    },
    {
      "cell_type": "code",
      "source": [
        "fig, axes = plt.subplots(1, 2, figsize=(8, 3))\n",
        "fig.suptitle('Boxplots for outlier detection')\n",
        "sns.boxplot(ax=axes[0], x=df['age'])\n",
        "sns.boxplot(ax=axes[1], x=df['years_of_experience'])\n",
        "plt.show();"
      ],
      "metadata": {
        "colab": {
          "base_uri": "https://localhost:8080/",
          "height": 316
        },
        "id": "QRcGgfGl1RWi",
        "outputId": "5863e23d-f066-4815-f486-5350277a6fcc"
      },
      "execution_count": 25,
      "outputs": [
        {
          "output_type": "display_data",
          "data": {
            "text/plain": [
              "<Figure size 800x300 with 2 Axes>"
            ],
            "image/png": "[encoded data removed]"
          },
          "metadata": {}
        }
      ]
    },
    {
      "cell_type": "code",
      "source": [
        "# Determine the number of rows containing outliers in the three variables\n",
        "continuous_list_outliers = ['age','years_of_experience']\n",
        "for c in continuous_list_outliers:\n",
        "  # Compute the 25th percentile value\n",
        "  percentile25 = df[c].quantile(0.25)\n",
        "  # Compute the 75th percentile value\n",
        "  percentile75 = df[c].quantile(0.75)\n",
        "  # Compute the interquartile range\n",
        "  iqr = percentile75 - percentile25\n",
        "  # Define the upper limit and lower limit for non-outlier values\n",
        "  upper_limit = percentile75 + 1.5 * iqr\n",
        "  print(f\"Upper limit {c}: {upper_limit}\")\n",
        "  # Identify subset of data containing outliers\n",
        "  outliers = df[(df[c] > upper_limit)]\n",
        "  # Count how many rows in the data contain outliers\n",
        "  print(f\"Number of rows in the data containing outliers in {c}: {len(outliers)}\")\n"
      ],
      "metadata": {
        "colab": {
          "base_uri": "https://localhost:8080/"
        },
        "id": "40ZxKbgYtY75",
        "outputId": "627008ca-f5ef-45eb-901a-bd89dee0c338"
      },
      "execution_count": 26,
      "outputs": [
        {
          "output_type": "stream",
          "name": "stdout",
          "text": [
            "Upper limit age: 53.0\n",
            "Number of rows in the data containing outliers in age: 123\n",
            "Upper limit years_of_experience: 25.5\n",
            "Number of rows in the data containing outliers in years_of_experience: 75\n"
          ]
        }
      ]
    },
    {
      "cell_type": "markdown",
      "source": [
        "Since we are not concerned about age in this work, we will want to ignore any outliers in this feature. In years of experience, we can consider that it's ok to find someone with more than 25 years of experience and nearly 35. With this knowledge, it's reasonable to leave these values alone and not alter them."
      ],
      "metadata": {
        "id": "ajDc01Vsebwe"
      }
    },
    {
      "cell_type": "markdown",
      "source": [
        "##**Data visualization**"
      ],
      "metadata": {
        "id": "2vwlB85ehPFY"
      }
    },
    {
      "cell_type": "markdown",
      "source": [
        "Data visualization is the process of transforming data into a visual representation that helps people understand and interpret the data. In our work it will be used to identify trends and patterns in the dataset.\n",
        "\n"
      ],
      "metadata": {
        "id": "Vy75PlhLikXo"
      }
    },
    {
      "cell_type": "markdown",
      "source": [
        "Time to plot education level against salary. Since `education_level` is a categorical variable and `salary` a continuous variable, a boxplot would be the best way to represent this."
      ],
      "metadata": {
        "id": "pTnPQH3w77Zo"
      }
    },
    {
      "cell_type": "code",
      "source": [
        "order = ['High School', \"Bachelor's\", \"Master's\", 'PhD']\n",
        "sns.boxplot(x='education_level', y='salary', data=df, order = order, showfliers=False)"
      ],
      "metadata": {
        "colab": {
          "base_uri": "https://localhost:8080/",
          "height": 374
        },
        "id": "zTkeOF4zCsKG",
        "outputId": "b908ab43-a7aa-4e97-9dd2-155b2dfe3f66"
      },
      "execution_count": 27,
      "outputs": [
        {
          "output_type": "execute_result",
          "data": {
            "text/plain": [
              "<Axes: xlabel='education_level', ylabel='salary'>"
            ]
          },
          "metadata": {},
          "execution_count": 27
        },
        {
          "output_type": "display_data",
          "data": {
            "text/plain": [
              "<Figure size 750x350 with 1 Axes>"
            ],
            "image/png": "[encoded data removed]"
          },
          "metadata": {}
        }
      ]
    },
    {
      "cell_type": "markdown",
      "source": [
        "We can observe that as someone goes from High School up to PhD, his salary tend to be increased on average. This is a sign of a correlation between `education_level` and `salary`. There is considerable variation in Salary across the TV groups.\n",
        "\n",
        "The significance of these differences can be tested with a one-way ANOVA.\n",
        "\n",
        "The following table resumes the average salary by categories in education level."
      ],
      "metadata": {
        "id": "zsfM5JsukyQg"
      }
    },
    {
      "cell_type": "code",
      "source": [
        "box_resume = df.groupby('education_level')['salary'].mean().to_frame().reset_index().rename(columns={'salary' : 'average_salary'})\n",
        "box_resume"
      ],
      "metadata": {
        "colab": {
          "base_uri": "https://localhost:8080/",
          "height": 175
        },
        "id": "woxN2uKlz6XP",
        "outputId": "a9577928-c1a4-44a8-f50d-1f98b3bd21ac"
      },
      "execution_count": 28,
      "outputs": [
        {
          "output_type": "execute_result",
          "data": {
            "text/plain": [
              "  education_level  average_salary\n",
              "0      Bachelor's    95082.908640\n",
              "1     High School    36706.694196\n",
              "2        Master's   130112.056452\n",
              "3             PhD   165651.457999"
            ],
            "text/html": [
              "\n",
              "  <div id=\"df-da421c5a-d915-4afd-b491-6625f5aaa679\">\n",
              "    <div class=\"colab-df-container\">\n",
              "      <div>\n",
              "<style scoped>\n",
              "    .dataframe tbody tr th:only-of-type {\n",
              "        vertical-align: middle;\n",
              "    }\n",
              "\n",
              "    .dataframe tbody tr th {\n",
              "        vertical-align: top;\n",
              "    }\n",
              "\n",
              "    .dataframe thead th {\n",
              "        text-align: right;\n",
              "    }\n",
              "</style>\n",
              "<table border=\"1\" class=\"dataframe\">\n",
              "  <thead>\n",
              "    <tr style=\"text-align: right;\">\n",
              "      <th></th>\n",
              "      <th>education_level</th>\n",
              "      <th>average_salary</th>\n",
              "    </tr>\n",
              "  </thead>\n",
              "  <tbody>\n",
              "    <tr>\n",
              "      <th>0</th>\n",
              "      <td>Bachelor's</td>\n",
              "      <td>95082.908640</td>\n",
              "    </tr>\n",
              "    <tr>\n",
              "      <th>1</th>\n",
              "      <td>High School</td>\n",
              "      <td>36706.694196</td>\n",
              "    </tr>\n",
              "    <tr>\n",
              "      <th>2</th>\n",
              "      <td>Master's</td>\n",
              "      <td>130112.056452</td>\n",
              "    </tr>\n",
              "    <tr>\n",
              "      <th>3</th>\n",
              "      <td>PhD</td>\n",
              "      <td>165651.457999</td>\n",
              "    </tr>\n",
              "  </tbody>\n",
              "</table>\n",
              "</div>\n",
              "      <button class=\"colab-df-convert\" onclick=\"convertToInteractive('df-da421c5a-d915-4afd-b491-6625f5aaa679')\"\n",
              "              title=\"Convert this dataframe to an interactive table.\"\n",
              "              style=\"display:none;\">\n",
              "        \n",
              "  <svg xmlns=\"http://www.w3.org/2000/svg\" height=\"24px\"viewBox=\"0 0 24 24\"\n",
              "       width=\"24px\">\n",
              "    <path d=\"M0 0h24v24H0V0z\" fill=\"none\"/>\n",
              "    <path d=\"M18.56 5.44l.94 2.06.94-2.06 2.06-.94-2.06-.94-.94-2.06-.94 2.06-2.06.94zm-11 1L8.5 8.5l.94-2.06 2.06-.94-2.06-.94L8.5 2.5l-.94 2.06-2.06.94zm10 10l.94 2.06.94-2.06 2.06-.94-2.06-.94-.94-2.06-.94 2.06-2.06.94z\"/><path d=\"M17.41 7.96l-1.37-1.37c-.4-.4-.92-.59-1.43-.59-.52 0-1.04.2-1.43.59L10.3 9.45l-7.72 7.72c-.78.78-.78 2.05 0 2.83L4 21.41c.39.39.9.59 1.41.59.51 0 1.02-.2 1.41-.59l7.78-7.78 2.81-2.81c.8-.78.8-2.07 0-2.86zM5.41 20L4 18.59l7.72-7.72 1.47 1.35L5.41 20z\"/>\n",
              "  </svg>\n",
              "      </button>\n",
              "      \n",
              "  <style>\n",
              "    .colab-df-container {\n",
              "      display:flex;\n",
              "      flex-wrap:wrap;\n",
              "      gap: 12px;\n",
              "    }\n",
              "\n",
              "    .colab-df-convert {\n",
              "      background-color: #E8F0FE;\n",
              "      border: none;\n",
              "      border-radius: 50%;\n",
              "      cursor: pointer;\n",
              "      display: none;\n",
              "      fill: #1967D2;\n",
              "      height: 32px;\n",
              "      padding: 0 0 0 0;\n",
              "      width: 32px;\n",
              "    }\n",
              "\n",
              "    .colab-df-convert:hover {\n",
              "      background-color: #E2EBFA;\n",
              "      box-shadow: 0px 1px 2px rgba(60, 64, 67, 0.3), 0px 1px 3px 1px rgba(60, 64, 67, 0.15);\n",
              "      fill: #174EA6;\n",
              "    }\n",
              "\n",
              "    [theme=dark] .colab-df-convert {\n",
              "      background-color: #3B4455;\n",
              "      fill: #D2E3FC;\n",
              "    }\n",
              "\n",
              "    [theme=dark] .colab-df-convert:hover {\n",
              "      background-color: #434B5C;\n",
              "      box-shadow: 0px 1px 3px 1px rgba(0, 0, 0, 0.15);\n",
              "      filter: drop-shadow(0px 1px 2px rgba(0, 0, 0, 0.3));\n",
              "      fill: #FFFFFF;\n",
              "    }\n",
              "  </style>\n",
              "\n",
              "      <script>\n",
              "        const buttonEl =\n",
              "          document.querySelector('#df-da421c5a-d915-4afd-b491-6625f5aaa679 button.colab-df-convert');\n",
              "        buttonEl.style.display =\n",
              "          google.colab.kernel.accessAllowed ? 'block' : 'none';\n",
              "\n",
              "        async function convertToInteractive(key) {\n",
              "          const element = document.querySelector('#df-da421c5a-d915-4afd-b491-6625f5aaa679');\n",
              "          const dataTable =\n",
              "            await google.colab.kernel.invokeFunction('convertToInteractive',\n",
              "                                                     [key], {});\n",
              "          if (!dataTable) return;\n",
              "\n",
              "          const docLinkHtml = 'Like what you see? Visit the ' +\n",
              "            '<a target=\"_blank\" href=https://colab.research.google.com/notebooks/data_table.ipynb>data table notebook</a>'\n",
              "            + ' to learn more about interactive tables.';\n",
              "          element.innerHTML = '';\n",
              "          dataTable['output_type'] = 'display_data';\n",
              "          await google.colab.output.renderOutput(dataTable, element);\n",
              "          const docLink = document.createElement('div');\n",
              "          docLink.innerHTML = docLinkHtml;\n",
              "          element.appendChild(docLink);\n",
              "        }\n",
              "      </script>\n",
              "    </div>\n",
              "  </div>\n",
              "  "
            ]
          },
          "metadata": {},
          "execution_count": 28
        }
      ]
    },
    {
      "cell_type": "markdown",
      "source": [
        "Now we will plot this table so we can visualize the difference per category in education level through a bar graph.\n",
        "\n",
        "We will write a function that will help us simplify the figures in the average salary column."
      ],
      "metadata": {
        "id": "dzUNsuBU3a8L"
      }
    },
    {
      "cell_type": "code",
      "source": [
        "def readable_numbers(x):\n",
        "  \"\"\"\n",
        "  takes a large number and formats it into K,M to make it more readable\n",
        "  \"\"\"\n",
        "  if x >= 1e6:\n",
        "    s = '{:1.1f}M'.format(x*1e-6)\n",
        "  else:\n",
        "    s = '{:1.1f}K'.format(x*1e-3)\n",
        "  return s\n",
        "  # Use the readable_numbers() function to create a new column\n",
        "\n"
      ],
      "metadata": {
        "id": "bHx7Pa4Em5lc"
      },
      "execution_count": 29,
      "outputs": []
    },
    {
      "cell_type": "code",
      "source": [
        "box_resume['avg_salary']=box_resume['average_salary'].apply(readable_numbers)\n",
        "box_resume"
      ],
      "metadata": {
        "colab": {
          "base_uri": "https://localhost:8080/",
          "height": 175
        },
        "id": "Dq_g9kXGoOv1",
        "outputId": "e5d5523b-9a19-4dff-8180-142fee1477e9"
      },
      "execution_count": 30,
      "outputs": [
        {
          "output_type": "execute_result",
          "data": {
            "text/plain": [
              "  education_level  average_salary avg_salary\n",
              "0      Bachelor's    95082.908640      95.1K\n",
              "1     High School    36706.694196      36.7K\n",
              "2        Master's   130112.056452     130.1K\n",
              "3             PhD   165651.457999     165.7K"
            ],
            "text/html": [
              "\n",
              "  <div id=\"df-075c7ee7-407f-49ad-95d3-083b4d51e268\">\n",
              "    <div class=\"colab-df-container\">\n",
              "      <div>\n",
              "<style scoped>\n",
              "    .dataframe tbody tr th:only-of-type {\n",
              "        vertical-align: middle;\n",
              "    }\n",
              "\n",
              "    .dataframe tbody tr th {\n",
              "        vertical-align: top;\n",
              "    }\n",
              "\n",
              "    .dataframe thead th {\n",
              "        text-align: right;\n",
              "    }\n",
              "</style>\n",
              "<table border=\"1\" class=\"dataframe\">\n",
              "  <thead>\n",
              "    <tr style=\"text-align: right;\">\n",
              "      <th></th>\n",
              "      <th>education_level</th>\n",
              "      <th>average_salary</th>\n",
              "      <th>avg_salary</th>\n",
              "    </tr>\n",
              "  </thead>\n",
              "  <tbody>\n",
              "    <tr>\n",
              "      <th>0</th>\n",
              "      <td>Bachelor's</td>\n",
              "      <td>95082.908640</td>\n",
              "      <td>95.1K</td>\n",
              "    </tr>\n",
              "    <tr>\n",
              "      <th>1</th>\n",
              "      <td>High School</td>\n",
              "      <td>36706.694196</td>\n",
              "      <td>36.7K</td>\n",
              "    </tr>\n",
              "    <tr>\n",
              "      <th>2</th>\n",
              "      <td>Master's</td>\n",
              "      <td>130112.056452</td>\n",
              "      <td>130.1K</td>\n",
              "    </tr>\n",
              "    <tr>\n",
              "      <th>3</th>\n",
              "      <td>PhD</td>\n",
              "      <td>165651.457999</td>\n",
              "      <td>165.7K</td>\n",
              "    </tr>\n",
              "  </tbody>\n",
              "</table>\n",
              "</div>\n",
              "      <button class=\"colab-df-convert\" onclick=\"convertToInteractive('df-075c7ee7-407f-49ad-95d3-083b4d51e268')\"\n",
              "              title=\"Convert this dataframe to an interactive table.\"\n",
              "              style=\"display:none;\">\n",
              "        \n",
              "  <svg xmlns=\"http://www.w3.org/2000/svg\" height=\"24px\"viewBox=\"0 0 24 24\"\n",
              "       width=\"24px\">\n",
              "    <path d=\"M0 0h24v24H0V0z\" fill=\"none\"/>\n",
              "    <path d=\"M18.56 5.44l.94 2.06.94-2.06 2.06-.94-2.06-.94-.94-2.06-.94 2.06-2.06.94zm-11 1L8.5 8.5l.94-2.06 2.06-.94-2.06-.94L8.5 2.5l-.94 2.06-2.06.94zm10 10l.94 2.06.94-2.06 2.06-.94-2.06-.94-.94-2.06-.94 2.06-2.06.94z\"/><path d=\"M17.41 7.96l-1.37-1.37c-.4-.4-.92-.59-1.43-.59-.52 0-1.04.2-1.43.59L10.3 9.45l-7.72 7.72c-.78.78-.78 2.05 0 2.83L4 21.41c.39.39.9.59 1.41.59.51 0 1.02-.2 1.41-.59l7.78-7.78 2.81-2.81c.8-.78.8-2.07 0-2.86zM5.41 20L4 18.59l7.72-7.72 1.47 1.35L5.41 20z\"/>\n",
              "  </svg>\n",
              "      </button>\n",
              "      \n",
              "  <style>\n",
              "    .colab-df-container {\n",
              "      display:flex;\n",
              "      flex-wrap:wrap;\n",
              "      gap: 12px;\n",
              "    }\n",
              "\n",
              "    .colab-df-convert {\n",
              "      background-color: #E8F0FE;\n",
              "      border: none;\n",
              "      border-radius: 50%;\n",
              "      cursor: pointer;\n",
              "      display: none;\n",
              "      fill: #1967D2;\n",
              "      height: 32px;\n",
              "      padding: 0 0 0 0;\n",
              "      width: 32px;\n",
              "    }\n",
              "\n",
              "    .colab-df-convert:hover {\n",
              "      background-color: #E2EBFA;\n",
              "      box-shadow: 0px 1px 2px rgba(60, 64, 67, 0.3), 0px 1px 3px 1px rgba(60, 64, 67, 0.15);\n",
              "      fill: #174EA6;\n",
              "    }\n",
              "\n",
              "    [theme=dark] .colab-df-convert {\n",
              "      background-color: #3B4455;\n",
              "      fill: #D2E3FC;\n",
              "    }\n",
              "\n",
              "    [theme=dark] .colab-df-convert:hover {\n",
              "      background-color: #434B5C;\n",
              "      box-shadow: 0px 1px 3px 1px rgba(0, 0, 0, 0.15);\n",
              "      filter: drop-shadow(0px 1px 2px rgba(0, 0, 0, 0.3));\n",
              "      fill: #FFFFFF;\n",
              "    }\n",
              "  </style>\n",
              "\n",
              "      <script>\n",
              "        const buttonEl =\n",
              "          document.querySelector('#df-075c7ee7-407f-49ad-95d3-083b4d51e268 button.colab-df-convert');\n",
              "        buttonEl.style.display =\n",
              "          google.colab.kernel.accessAllowed ? 'block' : 'none';\n",
              "\n",
              "        async function convertToInteractive(key) {\n",
              "          const element = document.querySelector('#df-075c7ee7-407f-49ad-95d3-083b4d51e268');\n",
              "          const dataTable =\n",
              "            await google.colab.kernel.invokeFunction('convertToInteractive',\n",
              "                                                     [key], {});\n",
              "          if (!dataTable) return;\n",
              "\n",
              "          const docLinkHtml = 'Like what you see? Visit the ' +\n",
              "            '<a target=\"_blank\" href=https://colab.research.google.com/notebooks/data_table.ipynb>data table notebook</a>'\n",
              "            + ' to learn more about interactive tables.';\n",
              "          element.innerHTML = '';\n",
              "          dataTable['output_type'] = 'display_data';\n",
              "          await google.colab.output.renderOutput(dataTable, element);\n",
              "          const docLink = document.createElement('div');\n",
              "          docLink.innerHTML = docLinkHtml;\n",
              "          element.appendChild(docLink);\n",
              "        }\n",
              "      </script>\n",
              "    </div>\n",
              "  </div>\n",
              "  "
            ]
          },
          "metadata": {},
          "execution_count": 30
        }
      ]
    },
    {
      "cell_type": "markdown",
      "source": [
        "Before we start plotting, we'll write a function that will help label each bar in the plot with its corresponding education level text."
      ],
      "metadata": {
        "id": "__Pl2Mx61_P4"
      }
    },
    {
      "cell_type": "code",
      "source": [
        "def add_labels(x, y, labels):\n",
        "  for i in range(len(x)):\n",
        "    plt.text(i, y[i], labels[i], ha = 'center', va = 'bottom')\n",
        "\n"
      ],
      "metadata": {
        "id": "g0EwJW9aowYq"
      },
      "execution_count": 31,
      "outputs": []
    },
    {
      "cell_type": "code",
      "source": [
        "box_resume['avg_salary'] = box_resume['avg_salary'].astype(str)\n"
      ],
      "metadata": {
        "id": "D4Mo9HphzzUH"
      },
      "execution_count": 32,
      "outputs": []
    },
    {
      "cell_type": "markdown",
      "source": [
        "Now we'll plot the bar graph."
      ],
      "metadata": {
        "id": "GDMEqtg822KB"
      }
    },
    {
      "cell_type": "code",
      "source": [
        "plt.figure(figsize=(8,5))\n",
        "plt.bar(x=box_resume['education_level'], height=box_resume['average_salary'])\n",
        "add_labels(box_resume['education_level'], box_resume['average_salary'], box_resume['avg_salary'])\n",
        "plt.plot()\n",
        "plt.xlabel('education level')\n",
        "plt.ylabel('Average salary')\n",
        "plt.title('Average salary per education level')\n",
        "plt.show()"
      ],
      "metadata": {
        "id": "Qu9horrqqIqX",
        "colab": {
          "base_uri": "https://localhost:8080/",
          "height": 507
        },
        "outputId": "dc0b0947-8d6e-4ea4-8a31-a65e289f1668"
      },
      "execution_count": 33,
      "outputs": [
        {
          "output_type": "display_data",
          "data": {
            "text/plain": [
              "<Figure size 800x500 with 1 Axes>"
            ],
            "image/png": "[encoded data removed]"
          },
          "metadata": {}
        }
      ]
    },
    {
      "cell_type": "markdown",
      "source": [
        "The plot shows us, on average, there is a difference in salary per category in education level. Later, we will go over some statistical tests to see whether this difference is statistically significant or due to chance."
      ],
      "metadata": {
        "id": "FI2bYiI4ov4S"
      }
    },
    {
      "cell_type": "markdown",
      "source": [
        "**Years of experience vs Salary**"
      ],
      "metadata": {
        "id": "LSbAENlh-M5m"
      }
    },
    {
      "cell_type": "markdown",
      "source": [
        "Now we will try to figure out whether it exists any trends between years of experience and salary. The best approach for this visualization would be a scatter plots.\n",
        "\n",
        "A scatter plot is a way to display the relationship between two variables. (especially two continuous variables).\n",
        "\n",
        "Scatter plots can be used to identify trends, patterns, and outliers in data. They can also be used to compare two or more groups of data.\n"
      ],
      "metadata": {
        "id": "Q2zpjhjx-atI"
      }
    },
    {
      "cell_type": "code",
      "source": [
        "%matplotlib inline\n",
        "sns.jointplot(x='years_of_experience', y='salary', data=df)\n"
      ],
      "metadata": {
        "id": "ZVSCWPdgpNOC",
        "colab": {
          "base_uri": "https://localhost:8080/",
          "height": 624
        },
        "outputId": "c6585f7c-b062-44e8-e19c-8bb6468c8743"
      },
      "execution_count": 34,
      "outputs": [
        {
          "output_type": "execute_result",
          "data": {
            "text/plain": [
              "<seaborn.axisgrid.JointGrid at 0x7f62c95839a0>"
            ]
          },
          "metadata": {},
          "execution_count": 34
        },
        {
          "output_type": "display_data",
          "data": {
            "text/plain": [
              "<Figure size 600x600 with 3 Axes>"
            ],
            "image/png": "[encoded data removed]"
          },
          "metadata": {}
        }
      ]
    },
    {
      "cell_type": "markdown",
      "source": [
        "This visualization helps us identify a trend between the two variables. As years of experience increase, the salary seems to follow. Hence, a sign of a positive relationship between the variables.\n",
        "\n",
        "So there are two things worth our investigation.\n",
        "\n",
        "1. It's not to be expected to have a salary so close to 0, even though the years of experience were so close to 5. That may be an outlier or a typo.\n",
        "2. We have seen people with less than five years of experience who earn $150,000 and more a year. We are tempted to see what their occupations and level of education are.\n",
        "\n",
        "Let's dive in."
      ],
      "metadata": {
        "id": "qKkPFaLDUEwv"
      }
    },
    {
      "cell_type": "code",
      "source": [
        "df[df['salary'].lt(10000)]"
      ],
      "metadata": {
        "colab": {
          "base_uri": "https://localhost:8080/",
          "height": 175
        },
        "id": "aGoSRMonEqlb",
        "outputId": "066de92a-ce7a-4845-90c5-a94bae581927"
      },
      "execution_count": 35,
      "outputs": [
        {
          "output_type": "execute_result",
          "data": {
            "text/plain": [
              "       age  gender education_level                           job_title  \\\n",
              "259   29.0    Male      Bachelor's  Junior Business Operations Analyst   \n",
              "1890  25.0  Female      Bachelor's                 Front end Developer   \n",
              "2654  23.0    Male             PhD           Software Engineer Manager   \n",
              "4633  31.0  Female      Bachelor's               Junior HR Coordinator   \n",
              "\n",
              "      years_of_experience  salary  \n",
              "259                   1.5   350.0  \n",
              "1890                  1.0   550.0  \n",
              "2654                  1.0   579.0  \n",
              "4633                  4.0   500.0  "
            ],
            "text/html": [
              "\n",
              "  <div id=\"df-d77e1266-c671-498b-80aa-fb1b2a0224cc\">\n",
              "    <div class=\"colab-df-container\">\n",
              "      <div>\n",
              "<style scoped>\n",
              "    .dataframe tbody tr th:only-of-type {\n",
              "        vertical-align: middle;\n",
              "    }\n",
              "\n",
              "    .dataframe tbody tr th {\n",
              "        vertical-align: top;\n",
              "    }\n",
              "\n",
              "    .dataframe thead th {\n",
              "        text-align: right;\n",
              "    }\n",
              "</style>\n",
              "<table border=\"1\" class=\"dataframe\">\n",
              "  <thead>\n",
              "    <tr style=\"text-align: right;\">\n",
              "      <th></th>\n",
              "      <th>age</th>\n",
              "      <th>gender</th>\n",
              "      <th>education_level</th>\n",
              "      <th>job_title</th>\n",
              "      <th>years_of_experience</th>\n",
              "      <th>salary</th>\n",
              "    </tr>\n",
              "  </thead>\n",
              "  <tbody>\n",
              "    <tr>\n",
              "      <th>259</th>\n",
              "      <td>29.0</td>\n",
              "      <td>Male</td>\n",
              "      <td>Bachelor's</td>\n",
              "      <td>Junior Business Operations Analyst</td>\n",
              "      <td>1.5</td>\n",
              "      <td>350.0</td>\n",
              "    </tr>\n",
              "    <tr>\n",
              "      <th>1890</th>\n",
              "      <td>25.0</td>\n",
              "      <td>Female</td>\n",
              "      <td>Bachelor's</td>\n",
              "      <td>Front end Developer</td>\n",
              "      <td>1.0</td>\n",
              "      <td>550.0</td>\n",
              "    </tr>\n",
              "    <tr>\n",
              "      <th>2654</th>\n",
              "      <td>23.0</td>\n",
              "      <td>Male</td>\n",
              "      <td>PhD</td>\n",
              "      <td>Software Engineer Manager</td>\n",
              "      <td>1.0</td>\n",
              "      <td>579.0</td>\n",
              "    </tr>\n",
              "    <tr>\n",
              "      <th>4633</th>\n",
              "      <td>31.0</td>\n",
              "      <td>Female</td>\n",
              "      <td>Bachelor's</td>\n",
              "      <td>Junior HR Coordinator</td>\n",
              "      <td>4.0</td>\n",
              "      <td>500.0</td>\n",
              "    </tr>\n",
              "  </tbody>\n",
              "</table>\n",
              "</div>\n",
              "      <button class=\"colab-df-convert\" onclick=\"convertToInteractive('df-d77e1266-c671-498b-80aa-fb1b2a0224cc')\"\n",
              "              title=\"Convert this dataframe to an interactive table.\"\n",
              "              style=\"display:none;\">\n",
              "        \n",
              "  <svg xmlns=\"http://www.w3.org/2000/svg\" height=\"24px\"viewBox=\"0 0 24 24\"\n",
              "       width=\"24px\">\n",
              "    <path d=\"M0 0h24v24H0V0z\" fill=\"none\"/>\n",
              "    <path d=\"M18.56 5.44l.94 2.06.94-2.06 2.06-.94-2.06-.94-.94-2.06-.94 2.06-2.06.94zm-11 1L8.5 8.5l.94-2.06 2.06-.94-2.06-.94L8.5 2.5l-.94 2.06-2.06.94zm10 10l.94 2.06.94-2.06 2.06-.94-2.06-.94-.94-2.06-.94 2.06-2.06.94z\"/><path d=\"M17.41 7.96l-1.37-1.37c-.4-.4-.92-.59-1.43-.59-.52 0-1.04.2-1.43.59L10.3 9.45l-7.72 7.72c-.78.78-.78 2.05 0 2.83L4 21.41c.39.39.9.59 1.41.59.51 0 1.02-.2 1.41-.59l7.78-7.78 2.81-2.81c.8-.78.8-2.07 0-2.86zM5.41 20L4 18.59l7.72-7.72 1.47 1.35L5.41 20z\"/>\n",
              "  </svg>\n",
              "      </button>\n",
              "      \n",
              "  <style>\n",
              "    .colab-df-container {\n",
              "      display:flex;\n",
              "      flex-wrap:wrap;\n",
              "      gap: 12px;\n",
              "    }\n",
              "\n",
              "    .colab-df-convert {\n",
              "      background-color: #E8F0FE;\n",
              "      border: none;\n",
              "      border-radius: 50%;\n",
              "      cursor: pointer;\n",
              "      display: none;\n",
              "      fill: #1967D2;\n",
              "      height: 32px;\n",
              "      padding: 0 0 0 0;\n",
              "      width: 32px;\n",
              "    }\n",
              "\n",
              "    .colab-df-convert:hover {\n",
              "      background-color: #E2EBFA;\n",
              "      box-shadow: 0px 1px 2px rgba(60, 64, 67, 0.3), 0px 1px 3px 1px rgba(60, 64, 67, 0.15);\n",
              "      fill: #174EA6;\n",
              "    }\n",
              "\n",
              "    [theme=dark] .colab-df-convert {\n",
              "      background-color: #3B4455;\n",
              "      fill: #D2E3FC;\n",
              "    }\n",
              "\n",
              "    [theme=dark] .colab-df-convert:hover {\n",
              "      background-color: #434B5C;\n",
              "      box-shadow: 0px 1px 3px 1px rgba(0, 0, 0, 0.15);\n",
              "      filter: drop-shadow(0px 1px 2px rgba(0, 0, 0, 0.3));\n",
              "      fill: #FFFFFF;\n",
              "    }\n",
              "  </style>\n",
              "\n",
              "      <script>\n",
              "        const buttonEl =\n",
              "          document.querySelector('#df-d77e1266-c671-498b-80aa-fb1b2a0224cc button.colab-df-convert');\n",
              "        buttonEl.style.display =\n",
              "          google.colab.kernel.accessAllowed ? 'block' : 'none';\n",
              "\n",
              "        async function convertToInteractive(key) {\n",
              "          const element = document.querySelector('#df-d77e1266-c671-498b-80aa-fb1b2a0224cc');\n",
              "          const dataTable =\n",
              "            await google.colab.kernel.invokeFunction('convertToInteractive',\n",
              "                                                     [key], {});\n",
              "          if (!dataTable) return;\n",
              "\n",
              "          const docLinkHtml = 'Like what you see? Visit the ' +\n",
              "            '<a target=\"_blank\" href=https://colab.research.google.com/notebooks/data_table.ipynb>data table notebook</a>'\n",
              "            + ' to learn more about interactive tables.';\n",
              "          element.innerHTML = '';\n",
              "          dataTable['output_type'] = 'display_data';\n",
              "          await google.colab.output.renderOutput(dataTable, element);\n",
              "          const docLink = document.createElement('div');\n",
              "          docLink.innerHTML = docLinkHtml;\n",
              "          element.appendChild(docLink);\n",
              "        }\n",
              "      </script>\n",
              "    </div>\n",
              "  </div>\n",
              "  "
            ]
          },
          "metadata": {},
          "execution_count": 35
        }
      ]
    },
    {
      "cell_type": "markdown",
      "source": [
        "Now, it is clear they are all typos. Such job titles don't pay so little a year. Therefore, we can remove them from our dataset."
      ],
      "metadata": {
        "id": "SyKzki77FRtM"
      }
    },
    {
      "cell_type": "code",
      "source": [
        "df.drop([259, 1890, 2654, 4633], inplace = True)"
      ],
      "metadata": {
        "id": "qG0i84_rGwlq"
      },
      "execution_count": 36,
      "outputs": []
    },
    {
      "cell_type": "code",
      "source": [
        "# Let's verify\n",
        "df[df['salary'].lt(10000)]"
      ],
      "metadata": {
        "colab": {
          "base_uri": "https://localhost:8080/",
          "height": 49
        },
        "id": "JQTsnnpaHKq9",
        "outputId": "2b06c767-b531-4f50-8676-fcdb372875e5"
      },
      "execution_count": 37,
      "outputs": [
        {
          "output_type": "execute_result",
          "data": {
            "text/plain": [
              "Empty DataFrame\n",
              "Columns: [age, gender, education_level, job_title, years_of_experience, salary]\n",
              "Index: []"
            ],
            "text/html": [
              "\n",
              "  <div id=\"df-6850db07-6202-4aee-85cd-24934ae00a1b\">\n",
              "    <div class=\"colab-df-container\">\n",
              "      <div>\n",
              "<style scoped>\n",
              "    .dataframe tbody tr th:only-of-type {\n",
              "        vertical-align: middle;\n",
              "    }\n",
              "\n",
              "    .dataframe tbody tr th {\n",
              "        vertical-align: top;\n",
              "    }\n",
              "\n",
              "    .dataframe thead th {\n",
              "        text-align: right;\n",
              "    }\n",
              "</style>\n",
              "<table border=\"1\" class=\"dataframe\">\n",
              "  <thead>\n",
              "    <tr style=\"text-align: right;\">\n",
              "      <th></th>\n",
              "      <th>age</th>\n",
              "      <th>gender</th>\n",
              "      <th>education_level</th>\n",
              "      <th>job_title</th>\n",
              "      <th>years_of_experience</th>\n",
              "      <th>salary</th>\n",
              "    </tr>\n",
              "  </thead>\n",
              "  <tbody>\n",
              "  </tbody>\n",
              "</table>\n",
              "</div>\n",
              "      <button class=\"colab-df-convert\" onclick=\"convertToInteractive('df-6850db07-6202-4aee-85cd-24934ae00a1b')\"\n",
              "              title=\"Convert this dataframe to an interactive table.\"\n",
              "              style=\"display:none;\">\n",
              "        \n",
              "  <svg xmlns=\"http://www.w3.org/2000/svg\" height=\"24px\"viewBox=\"0 0 24 24\"\n",
              "       width=\"24px\">\n",
              "    <path d=\"M0 0h24v24H0V0z\" fill=\"none\"/>\n",
              "    <path d=\"M18.56 5.44l.94 2.06.94-2.06 2.06-.94-2.06-.94-.94-2.06-.94 2.06-2.06.94zm-11 1L8.5 8.5l.94-2.06 2.06-.94-2.06-.94L8.5 2.5l-.94 2.06-2.06.94zm10 10l.94 2.06.94-2.06 2.06-.94-2.06-.94-.94-2.06-.94 2.06-2.06.94z\"/><path d=\"M17.41 7.96l-1.37-1.37c-.4-.4-.92-.59-1.43-.59-.52 0-1.04.2-1.43.59L10.3 9.45l-7.72 7.72c-.78.78-.78 2.05 0 2.83L4 21.41c.39.39.9.59 1.41.59.51 0 1.02-.2 1.41-.59l7.78-7.78 2.81-2.81c.8-.78.8-2.07 0-2.86zM5.41 20L4 18.59l7.72-7.72 1.47 1.35L5.41 20z\"/>\n",
              "  </svg>\n",
              "      </button>\n",
              "      \n",
              "  <style>\n",
              "    .colab-df-container {\n",
              "      display:flex;\n",
              "      flex-wrap:wrap;\n",
              "      gap: 12px;\n",
              "    }\n",
              "\n",
              "    .colab-df-convert {\n",
              "      background-color: #E8F0FE;\n",
              "      border: none;\n",
              "      border-radius: 50%;\n",
              "      cursor: pointer;\n",
              "      display: none;\n",
              "      fill: #1967D2;\n",
              "      height: 32px;\n",
              "      padding: 0 0 0 0;\n",
              "      width: 32px;\n",
              "    }\n",
              "\n",
              "    .colab-df-convert:hover {\n",
              "      background-color: #E2EBFA;\n",
              "      box-shadow: 0px 1px 2px rgba(60, 64, 67, 0.3), 0px 1px 3px 1px rgba(60, 64, 67, 0.15);\n",
              "      fill: #174EA6;\n",
              "    }\n",
              "\n",
              "    [theme=dark] .colab-df-convert {\n",
              "      background-color: #3B4455;\n",
              "      fill: #D2E3FC;\n",
              "    }\n",
              "\n",
              "    [theme=dark] .colab-df-convert:hover {\n",
              "      background-color: #434B5C;\n",
              "      box-shadow: 0px 1px 3px 1px rgba(0, 0, 0, 0.15);\n",
              "      filter: drop-shadow(0px 1px 2px rgba(0, 0, 0, 0.3));\n",
              "      fill: #FFFFFF;\n",
              "    }\n",
              "  </style>\n",
              "\n",
              "      <script>\n",
              "        const buttonEl =\n",
              "          document.querySelector('#df-6850db07-6202-4aee-85cd-24934ae00a1b button.colab-df-convert');\n",
              "        buttonEl.style.display =\n",
              "          google.colab.kernel.accessAllowed ? 'block' : 'none';\n",
              "\n",
              "        async function convertToInteractive(key) {\n",
              "          const element = document.querySelector('#df-6850db07-6202-4aee-85cd-24934ae00a1b');\n",
              "          const dataTable =\n",
              "            await google.colab.kernel.invokeFunction('convertToInteractive',\n",
              "                                                     [key], {});\n",
              "          if (!dataTable) return;\n",
              "\n",
              "          const docLinkHtml = 'Like what you see? Visit the ' +\n",
              "            '<a target=\"_blank\" href=https://colab.research.google.com/notebooks/data_table.ipynb>data table notebook</a>'\n",
              "            + ' to learn more about interactive tables.';\n",
              "          element.innerHTML = '';\n",
              "          dataTable['output_type'] = 'display_data';\n",
              "          await google.colab.output.renderOutput(dataTable, element);\n",
              "          const docLink = document.createElement('div');\n",
              "          docLink.innerHTML = docLinkHtml;\n",
              "          element.appendChild(docLink);\n",
              "        }\n",
              "      </script>\n",
              "    </div>\n",
              "  </div>\n",
              "  "
            ]
          },
          "metadata": {},
          "execution_count": 37
        }
      ]
    },
    {
      "cell_type": "markdown",
      "source": [
        "✅"
      ],
      "metadata": {
        "id": "Bj1mEhjJHQUI"
      }
    },
    {
      "cell_type": "markdown",
      "source": [
        "Let's investigate the second part."
      ],
      "metadata": {
        "id": "NUokZY9VZH0r"
      }
    },
    {
      "cell_type": "code",
      "source": [
        "df[df['years_of_experience'].lt(5) & df['salary'].gt(149000)].sort_values(by='salary', ascending=False)"
      ],
      "metadata": {
        "colab": {
          "base_uri": "https://localhost:8080/",
          "height": 1000
        },
        "id": "Wg4vHiutSNAo",
        "outputId": "303b332e-3e99-42e3-ec82-b4127af33e66"
      },
      "execution_count": 38,
      "outputs": [
        {
          "output_type": "execute_result",
          "data": {
            "text/plain": [
              "       age  gender education_level          job_title  years_of_experience  \\\n",
              "954   29.0  Female        Master's     Data Scientist                  4.0   \n",
              "945   27.0  Female        Master's     Data Scientist                  3.0   \n",
              "989   27.0    Male      Bachelor's  Software Engineer                  4.0   \n",
              "1058  27.0    Male      Bachelor's  Software Engineer                  4.0   \n",
              "1018  27.0    Male      Bachelor's  Software Engineer                  4.0   \n",
              "1028  27.0    Male      Bachelor's  Software Engineer                  4.0   \n",
              "1038  27.0    Male      Bachelor's  Software Engineer                  4.0   \n",
              "1048  27.0    Male      Bachelor's  Software Engineer                  4.0   \n",
              "1068  27.0    Male      Bachelor's  Software Engineer                  4.0   \n",
              "998   27.0    Male      Bachelor's  Software Engineer                  4.0   \n",
              "1078  27.0    Male      Bachelor's  Software Engineer                  4.0   \n",
              "1088  27.0    Male      Bachelor's  Software Engineer                  4.0   \n",
              "1094  28.0    Male      Bachelor's  Software Engineer                  4.0   \n",
              "1117  28.0    Male      Bachelor's  Software Engineer                  4.0   \n",
              "1139  28.0    Male      Bachelor's  Software Engineer                  4.0   \n",
              "1161  28.0    Male      Bachelor's  Software Engineer                  4.0   \n",
              "1008  27.0    Male      Bachelor's  Software Engineer                  4.0   \n",
              "1183  28.0    Male      Bachelor's  Software Engineer                  4.0   \n",
              "979   27.0    Male      Bachelor's  Software Engineer                  4.0   \n",
              "963   27.0    Male      Bachelor's  Software Engineer                  4.0   \n",
              "957   27.0    Male      Bachelor's  Software Engineer                  4.0   \n",
              "533   27.0  Female      Bachelor's    Product Manager                  4.0   \n",
              "949   29.0  Female      Bachelor's  Software Engineer                  4.0   \n",
              "823   27.0  Female      Bachelor's    Product Manager                  4.0   \n",
              "719   27.0  Female      Bachelor's    Product Manager                  4.0   \n",
              "703   27.0  Female      Bachelor's    Product Manager                  4.0   \n",
              "677   27.0  Female        Master's     Data Scientist                  4.0   \n",
              "639   27.0  Female      Bachelor's    Product Manager                  4.0   \n",
              "623   27.0  Female      Bachelor's    Product Manager                  4.0   \n",
              "599   27.0  Female      Bachelor's    Product Manager                  4.0   \n",
              "549   27.0  Female      Bachelor's    Product Manager                  4.0   \n",
              "509   27.0  Female      Bachelor's    Product Manager                  4.0   \n",
              "\n",
              "        salary  \n",
              "954   182000.0  \n",
              "945   180000.0  \n",
              "989   160000.0  \n",
              "1058  160000.0  \n",
              "1018  160000.0  \n",
              "1028  160000.0  \n",
              "1038  160000.0  \n",
              "1048  160000.0  \n",
              "1068  160000.0  \n",
              "998   160000.0  \n",
              "1078  160000.0  \n",
              "1088  160000.0  \n",
              "1094  160000.0  \n",
              "1117  160000.0  \n",
              "1139  160000.0  \n",
              "1161  160000.0  \n",
              "1008  160000.0  \n",
              "1183  160000.0  \n",
              "979   160000.0  \n",
              "963   160000.0  \n",
              "957   160000.0  \n",
              "533   150000.0  \n",
              "949   150000.0  \n",
              "823   150000.0  \n",
              "719   150000.0  \n",
              "703   150000.0  \n",
              "677   150000.0  \n",
              "639   150000.0  \n",
              "623   150000.0  \n",
              "599   150000.0  \n",
              "549   150000.0  \n",
              "509   150000.0  "
            ],
            "text/html": [
              "\n",
              "  <div id=\"df-49912a8f-555f-4019-a6d7-6bca14b5cebb\">\n",
              "    <div class=\"colab-df-container\">\n",
              "      <div>\n",
              "<style scoped>\n",
              "    .dataframe tbody tr th:only-of-type {\n",
              "        vertical-align: middle;\n",
              "    }\n",
              "\n",
              "    .dataframe tbody tr th {\n",
              "        vertical-align: top;\n",
              "    }\n",
              "\n",
              "    .dataframe thead th {\n",
              "        text-align: right;\n",
              "    }\n",
              "</style>\n",
              "<table border=\"1\" class=\"dataframe\">\n",
              "  <thead>\n",
              "    <tr style=\"text-align: right;\">\n",
              "      <th></th>\n",
              "      <th>age</th>\n",
              "      <th>gender</th>\n",
              "      <th>education_level</th>\n",
              "      <th>job_title</th>\n",
              "      <th>years_of_experience</th>\n",
              "      <th>salary</th>\n",
              "    </tr>\n",
              "  </thead>\n",
              "  <tbody>\n",
              "    <tr>\n",
              "      <th>954</th>\n",
              "      <td>29.0</td>\n",
              "      <td>Female</td>\n",
              "      <td>Master's</td>\n",
              "      <td>Data Scientist</td>\n",
              "      <td>4.0</td>\n",
              "      <td>182000.0</td>\n",
              "    </tr>\n",
              "    <tr>\n",
              "      <th>945</th>\n",
              "      <td>27.0</td>\n",
              "      <td>Female</td>\n",
              "      <td>Master's</td>\n",
              "      <td>Data Scientist</td>\n",
              "      <td>3.0</td>\n",
              "      <td>180000.0</td>\n",
              "    </tr>\n",
              "    <tr>\n",
              "      <th>989</th>\n",
              "      <td>27.0</td>\n",
              "      <td>Male</td>\n",
              "      <td>Bachelor's</td>\n",
              "      <td>Software Engineer</td>\n",
              "      <td>4.0</td>\n",
              "      <td>160000.0</td>\n",
              "    </tr>\n",
              "    <tr>\n",
              "      <th>1058</th>\n",
              "      <td>27.0</td>\n",
              "      <td>Male</td>\n",
              "      <td>Bachelor's</td>\n",
              "      <td>Software Engineer</td>\n",
              "      <td>4.0</td>\n",
              "      <td>160000.0</td>\n",
              "    </tr>\n",
              "    <tr>\n",
              "      <th>1018</th>\n",
              "      <td>27.0</td>\n",
              "      <td>Male</td>\n",
              "      <td>Bachelor's</td>\n",
              "      <td>Software Engineer</td>\n",
              "      <td>4.0</td>\n",
              "      <td>160000.0</td>\n",
              "    </tr>\n",
              "    <tr>\n",
              "      <th>1028</th>\n",
              "      <td>27.0</td>\n",
              "      <td>Male</td>\n",
              "      <td>Bachelor's</td>\n",
              "      <td>Software Engineer</td>\n",
              "      <td>4.0</td>\n",
              "      <td>160000.0</td>\n",
              "    </tr>\n",
              "    <tr>\n",
              "      <th>1038</th>\n",
              "      <td>27.0</td>\n",
              "      <td>Male</td>\n",
              "      <td>Bachelor's</td>\n",
              "      <td>Software Engineer</td>\n",
              "      <td>4.0</td>\n",
              "      <td>160000.0</td>\n",
              "    </tr>\n",
              "    <tr>\n",
              "      <th>1048</th>\n",
              "      <td>27.0</td>\n",
              "      <td>Male</td>\n",
              "      <td>Bachelor's</td>\n",
              "      <td>Software Engineer</td>\n",
              "      <td>4.0</td>\n",
              "      <td>160000.0</td>\n",
              "    </tr>\n",
              "    <tr>\n",
              "      <th>1068</th>\n",
              "      <td>27.0</td>\n",
              "      <td>Male</td>\n",
              "      <td>Bachelor's</td>\n",
              "      <td>Software Engineer</td>\n",
              "      <td>4.0</td>\n",
              "      <td>160000.0</td>\n",
              "    </tr>\n",
              "    <tr>\n",
              "      <th>998</th>\n",
              "      <td>27.0</td>\n",
              "      <td>Male</td>\n",
              "      <td>Bachelor's</td>\n",
              "      <td>Software Engineer</td>\n",
              "      <td>4.0</td>\n",
              "      <td>160000.0</td>\n",
              "    </tr>\n",
              "    <tr>\n",
              "      <th>1078</th>\n",
              "      <td>27.0</td>\n",
              "      <td>Male</td>\n",
              "      <td>Bachelor's</td>\n",
              "      <td>Software Engineer</td>\n",
              "      <td>4.0</td>\n",
              "      <td>160000.0</td>\n",
              "    </tr>\n",
              "    <tr>\n",
              "      <th>1088</th>\n",
              "      <td>27.0</td>\n",
              "      <td>Male</td>\n",
              "      <td>Bachelor's</td>\n",
              "      <td>Software Engineer</td>\n",
              "      <td>4.0</td>\n",
              "      <td>160000.0</td>\n",
              "    </tr>\n",
              "    <tr>\n",
              "      <th>1094</th>\n",
              "      <td>28.0</td>\n",
              "      <td>Male</td>\n",
              "      <td>Bachelor's</td>\n",
              "      <td>Software Engineer</td>\n",
              "      <td>4.0</td>\n",
              "      <td>160000.0</td>\n",
              "    </tr>\n",
              "    <tr>\n",
              "      <th>1117</th>\n",
              "      <td>28.0</td>\n",
              "      <td>Male</td>\n",
              "      <td>Bachelor's</td>\n",
              "      <td>Software Engineer</td>\n",
              "      <td>4.0</td>\n",
              "      <td>160000.0</td>\n",
              "    </tr>\n",
              "    <tr>\n",
              "      <th>1139</th>\n",
              "      <td>28.0</td>\n",
              "      <td>Male</td>\n",
              "      <td>Bachelor's</td>\n",
              "      <td>Software Engineer</td>\n",
              "      <td>4.0</td>\n",
              "      <td>160000.0</td>\n",
              "    </tr>\n",
              "    <tr>\n",
              "      <th>1161</th>\n",
              "      <td>28.0</td>\n",
              "      <td>Male</td>\n",
              "      <td>Bachelor's</td>\n",
              "      <td>Software Engineer</td>\n",
              "      <td>4.0</td>\n",
              "      <td>160000.0</td>\n",
              "    </tr>\n",
              "    <tr>\n",
              "      <th>1008</th>\n",
              "      <td>27.0</td>\n",
              "      <td>Male</td>\n",
              "      <td>Bachelor's</td>\n",
              "      <td>Software Engineer</td>\n",
              "      <td>4.0</td>\n",
              "      <td>160000.0</td>\n",
              "    </tr>\n",
              "    <tr>\n",
              "      <th>1183</th>\n",
              "      <td>28.0</td>\n",
              "      <td>Male</td>\n",
              "      <td>Bachelor's</td>\n",
              "      <td>Software Engineer</td>\n",
              "      <td>4.0</td>\n",
              "      <td>160000.0</td>\n",
              "    </tr>\n",
              "    <tr>\n",
              "      <th>979</th>\n",
              "      <td>27.0</td>\n",
              "      <td>Male</td>\n",
              "      <td>Bachelor's</td>\n",
              "      <td>Software Engineer</td>\n",
              "      <td>4.0</td>\n",
              "      <td>160000.0</td>\n",
              "    </tr>\n",
              "    <tr>\n",
              "      <th>963</th>\n",
              "      <td>27.0</td>\n",
              "      <td>Male</td>\n",
              "      <td>Bachelor's</td>\n",
              "      <td>Software Engineer</td>\n",
              "      <td>4.0</td>\n",
              "      <td>160000.0</td>\n",
              "    </tr>\n",
              "    <tr>\n",
              "      <th>957</th>\n",
              "      <td>27.0</td>\n",
              "      <td>Male</td>\n",
              "      <td>Bachelor's</td>\n",
              "      <td>Software Engineer</td>\n",
              "      <td>4.0</td>\n",
              "      <td>160000.0</td>\n",
              "    </tr>\n",
              "    <tr>\n",
              "      <th>533</th>\n",
              "      <td>27.0</td>\n",
              "      <td>Female</td>\n",
              "      <td>Bachelor's</td>\n",
              "      <td>Product Manager</td>\n",
              "      <td>4.0</td>\n",
              "      <td>150000.0</td>\n",
              "    </tr>\n",
              "    <tr>\n",
              "      <th>949</th>\n",
              "      <td>29.0</td>\n",
              "      <td>Female</td>\n",
              "      <td>Bachelor's</td>\n",
              "      <td>Software Engineer</td>\n",
              "      <td>4.0</td>\n",
              "      <td>150000.0</td>\n",
              "    </tr>\n",
              "    <tr>\n",
              "      <th>823</th>\n",
              "      <td>27.0</td>\n",
              "      <td>Female</td>\n",
              "      <td>Bachelor's</td>\n",
              "      <td>Product Manager</td>\n",
              "      <td>4.0</td>\n",
              "      <td>150000.0</td>\n",
              "    </tr>\n",
              "    <tr>\n",
              "      <th>719</th>\n",
              "      <td>27.0</td>\n",
              "      <td>Female</td>\n",
              "      <td>Bachelor's</td>\n",
              "      <td>Product Manager</td>\n",
              "      <td>4.0</td>\n",
              "      <td>150000.0</td>\n",
              "    </tr>\n",
              "    <tr>\n",
              "      <th>703</th>\n",
              "      <td>27.0</td>\n",
              "      <td>Female</td>\n",
              "      <td>Bachelor's</td>\n",
              "      <td>Product Manager</td>\n",
              "      <td>4.0</td>\n",
              "      <td>150000.0</td>\n",
              "    </tr>\n",
              "    <tr>\n",
              "      <th>677</th>\n",
              "      <td>27.0</td>\n",
              "      <td>Female</td>\n",
              "      <td>Master's</td>\n",
              "      <td>Data Scientist</td>\n",
              "      <td>4.0</td>\n",
              "      <td>150000.0</td>\n",
              "    </tr>\n",
              "    <tr>\n",
              "      <th>639</th>\n",
              "      <td>27.0</td>\n",
              "      <td>Female</td>\n",
              "      <td>Bachelor's</td>\n",
              "      <td>Product Manager</td>\n",
              "      <td>4.0</td>\n",
              "      <td>150000.0</td>\n",
              "    </tr>\n",
              "    <tr>\n",
              "      <th>623</th>\n",
              "      <td>27.0</td>\n",
              "      <td>Female</td>\n",
              "      <td>Bachelor's</td>\n",
              "      <td>Product Manager</td>\n",
              "      <td>4.0</td>\n",
              "      <td>150000.0</td>\n",
              "    </tr>\n",
              "    <tr>\n",
              "      <th>599</th>\n",
              "      <td>27.0</td>\n",
              "      <td>Female</td>\n",
              "      <td>Bachelor's</td>\n",
              "      <td>Product Manager</td>\n",
              "      <td>4.0</td>\n",
              "      <td>150000.0</td>\n",
              "    </tr>\n",
              "    <tr>\n",
              "      <th>549</th>\n",
              "      <td>27.0</td>\n",
              "      <td>Female</td>\n",
              "      <td>Bachelor's</td>\n",
              "      <td>Product Manager</td>\n",
              "      <td>4.0</td>\n",
              "      <td>150000.0</td>\n",
              "    </tr>\n",
              "    <tr>\n",
              "      <th>509</th>\n",
              "      <td>27.0</td>\n",
              "      <td>Female</td>\n",
              "      <td>Bachelor's</td>\n",
              "      <td>Product Manager</td>\n",
              "      <td>4.0</td>\n",
              "      <td>150000.0</td>\n",
              "    </tr>\n",
              "  </tbody>\n",
              "</table>\n",
              "</div>\n",
              "      <button class=\"colab-df-convert\" onclick=\"convertToInteractive('df-49912a8f-555f-4019-a6d7-6bca14b5cebb')\"\n",
              "              title=\"Convert this dataframe to an interactive table.\"\n",
              "              style=\"display:none;\">\n",
              "        \n",
              "  <svg xmlns=\"http://www.w3.org/2000/svg\" height=\"24px\"viewBox=\"0 0 24 24\"\n",
              "       width=\"24px\">\n",
              "    <path d=\"M0 0h24v24H0V0z\" fill=\"none\"/>\n",
              "    <path d=\"M18.56 5.44l.94 2.06.94-2.06 2.06-.94-2.06-.94-.94-2.06-.94 2.06-2.06.94zm-11 1L8.5 8.5l.94-2.06 2.06-.94-2.06-.94L8.5 2.5l-.94 2.06-2.06.94zm10 10l.94 2.06.94-2.06 2.06-.94-2.06-.94-.94-2.06-.94 2.06-2.06.94z\"/><path d=\"M17.41 7.96l-1.37-1.37c-.4-.4-.92-.59-1.43-.59-.52 0-1.04.2-1.43.59L10.3 9.45l-7.72 7.72c-.78.78-.78 2.05 0 2.83L4 21.41c.39.39.9.59 1.41.59.51 0 1.02-.2 1.41-.59l7.78-7.78 2.81-2.81c.8-.78.8-2.07 0-2.86zM5.41 20L4 18.59l7.72-7.72 1.47 1.35L5.41 20z\"/>\n",
              "  </svg>\n",
              "      </button>\n",
              "      \n",
              "  <style>\n",
              "    .colab-df-container {\n",
              "      display:flex;\n",
              "      flex-wrap:wrap;\n",
              "      gap: 12px;\n",
              "    }\n",
              "\n",
              "    .colab-df-convert {\n",
              "      background-color: #E8F0FE;\n",
              "      border: none;\n",
              "      border-radius: 50%;\n",
              "      cursor: pointer;\n",
              "      display: none;\n",
              "      fill: #1967D2;\n",
              "      height: 32px;\n",
              "      padding: 0 0 0 0;\n",
              "      width: 32px;\n",
              "    }\n",
              "\n",
              "    .colab-df-convert:hover {\n",
              "      background-color: #E2EBFA;\n",
              "      box-shadow: 0px 1px 2px rgba(60, 64, 67, 0.3), 0px 1px 3px 1px rgba(60, 64, 67, 0.15);\n",
              "      fill: #174EA6;\n",
              "    }\n",
              "\n",
              "    [theme=dark] .colab-df-convert {\n",
              "      background-color: #3B4455;\n",
              "      fill: #D2E3FC;\n",
              "    }\n",
              "\n",
              "    [theme=dark] .colab-df-convert:hover {\n",
              "      background-color: #434B5C;\n",
              "      box-shadow: 0px 1px 3px 1px rgba(0, 0, 0, 0.15);\n",
              "      filter: drop-shadow(0px 1px 2px rgba(0, 0, 0, 0.3));\n",
              "      fill: #FFFFFF;\n",
              "    }\n",
              "  </style>\n",
              "\n",
              "      <script>\n",
              "        const buttonEl =\n",
              "          document.querySelector('#df-49912a8f-555f-4019-a6d7-6bca14b5cebb button.colab-df-convert');\n",
              "        buttonEl.style.display =\n",
              "          google.colab.kernel.accessAllowed ? 'block' : 'none';\n",
              "\n",
              "        async function convertToInteractive(key) {\n",
              "          const element = document.querySelector('#df-49912a8f-555f-4019-a6d7-6bca14b5cebb');\n",
              "          const dataTable =\n",
              "            await google.colab.kernel.invokeFunction('convertToInteractive',\n",
              "                                                     [key], {});\n",
              "          if (!dataTable) return;\n",
              "\n",
              "          const docLinkHtml = 'Like what you see? Visit the ' +\n",
              "            '<a target=\"_blank\" href=https://colab.research.google.com/notebooks/data_table.ipynb>data table notebook</a>'\n",
              "            + ' to learn more about interactive tables.';\n",
              "          element.innerHTML = '';\n",
              "          dataTable['output_type'] = 'display_data';\n",
              "          await google.colab.output.renderOutput(dataTable, element);\n",
              "          const docLink = document.createElement('div');\n",
              "          docLink.innerHTML = docLinkHtml;\n",
              "          element.appendChild(docLink);\n",
              "        }\n",
              "      </script>\n",
              "    </div>\n",
              "  </div>\n",
              "  "
            ]
          },
          "metadata": {},
          "execution_count": 38
        }
      ]
    },
    {
      "cell_type": "markdown",
      "source": [
        "They hold bachelor's or master's degrees and are employed as Data Scientist, Software Engineers or Product Manager."
      ],
      "metadata": {
        "id": "FDZ7W5otZssw"
      }
    },
    {
      "cell_type": "markdown",
      "source": [
        "The next step is to run some statistical tests to confirm the relationship between the variables:\n",
        "* salary and education level\n",
        "* salary and years of experience.\n",
        "\n",
        "Before moving on, it's worth examining the job title that is most commonly associated with different educational levels."
      ],
      "metadata": {
        "id": "f5Jie_qhH20x"
      }
    },
    {
      "cell_type": "markdown",
      "source": [
        "We will create a function that will allow us to create a more convenient data frame to perform this analysis."
      ],
      "metadata": {
        "id": "kpSKv4jsFBdn"
      }
    },
    {
      "cell_type": "code",
      "source": [
        "def create_df(grp, agg):\n",
        "  '''\n",
        "  Create a list grouped by grp\n",
        "  and aggregate by agg (value_counts)\n",
        "  then return a DataFrame from the list.\n",
        "  '''\n",
        "  a = df.groupby(grp)[agg].value_counts()\n",
        "\n",
        "  b = a.to_frame().rename(columns={'job_title' : 'number'}).reset_index()\n",
        "  return b"
      ],
      "metadata": {
        "id": "4OEw01xm5ZfS"
      },
      "execution_count": 39,
      "outputs": []
    },
    {
      "cell_type": "code",
      "source": [
        "# call the function to create the DataFrame\n",
        "df_job = create_df('education_level', 'job_title')\n",
        "df_job"
      ],
      "metadata": {
        "colab": {
          "base_uri": "https://localhost:8080/",
          "height": 423
        },
        "id": "Jys59SVu0Lqx",
        "outputId": "5fea6e19-3c44-4f44-aca4-5dbd67dfbae7"
      },
      "execution_count": 40,
      "outputs": [
        {
          "output_type": "execute_result",
          "data": {
            "text/plain": [
              "    education_level                  job_title  number\n",
              "0        Bachelor's          Software Engineer     478\n",
              "1        Bachelor's               Data Analyst     287\n",
              "2        Bachelor's        Front end Developer     177\n",
              "3        Bachelor's            Product Manager     156\n",
              "4        Bachelor's         Back end Developer     145\n",
              "..              ...                        ...     ...\n",
              "267             PhD        Principal Scientist       1\n",
              "268             PhD          Senior Consultant       1\n",
              "269             PhD          Senior HR Manager       1\n",
              "270             PhD  Senior Marketing Director       1\n",
              "271             PhD          Senior Researcher       1\n",
              "\n",
              "[272 rows x 3 columns]"
            ],
            "text/html": [
              "\n",
              "  <div id=\"df-992dbc10-7c56-483f-b22d-f1eef674f3a9\">\n",
              "    <div class=\"colab-df-container\">\n",
              "      <div>\n",
              "<style scoped>\n",
              "    .dataframe tbody tr th:only-of-type {\n",
              "        vertical-align: middle;\n",
              "    }\n",
              "\n",
              "    .dataframe tbody tr th {\n",
              "        vertical-align: top;\n",
              "    }\n",
              "\n",
              "    .dataframe thead th {\n",
              "        text-align: right;\n",
              "    }\n",
              "</style>\n",
              "<table border=\"1\" class=\"dataframe\">\n",
              "  <thead>\n",
              "    <tr style=\"text-align: right;\">\n",
              "      <th></th>\n",
              "      <th>education_level</th>\n",
              "      <th>job_title</th>\n",
              "      <th>number</th>\n",
              "    </tr>\n",
              "  </thead>\n",
              "  <tbody>\n",
              "    <tr>\n",
              "      <th>0</th>\n",
              "      <td>Bachelor's</td>\n",
              "      <td>Software Engineer</td>\n",
              "      <td>478</td>\n",
              "    </tr>\n",
              "    <tr>\n",
              "      <th>1</th>\n",
              "      <td>Bachelor's</td>\n",
              "      <td>Data Analyst</td>\n",
              "      <td>287</td>\n",
              "    </tr>\n",
              "    <tr>\n",
              "      <th>2</th>\n",
              "      <td>Bachelor's</td>\n",
              "      <td>Front end Developer</td>\n",
              "      <td>177</td>\n",
              "    </tr>\n",
              "    <tr>\n",
              "      <th>3</th>\n",
              "      <td>Bachelor's</td>\n",
              "      <td>Product Manager</td>\n",
              "      <td>156</td>\n",
              "    </tr>\n",
              "    <tr>\n",
              "      <th>4</th>\n",
              "      <td>Bachelor's</td>\n",
              "      <td>Back end Developer</td>\n",
              "      <td>145</td>\n",
              "    </tr>\n",
              "    <tr>\n",
              "      <th>...</th>\n",
              "      <td>...</td>\n",
              "      <td>...</td>\n",
              "      <td>...</td>\n",
              "    </tr>\n",
              "    <tr>\n",
              "      <th>267</th>\n",
              "      <td>PhD</td>\n",
              "      <td>Principal Scientist</td>\n",
              "      <td>1</td>\n",
              "    </tr>\n",
              "    <tr>\n",
              "      <th>268</th>\n",
              "      <td>PhD</td>\n",
              "      <td>Senior Consultant</td>\n",
              "      <td>1</td>\n",
              "    </tr>\n",
              "    <tr>\n",
              "      <th>269</th>\n",
              "      <td>PhD</td>\n",
              "      <td>Senior HR Manager</td>\n",
              "      <td>1</td>\n",
              "    </tr>\n",
              "    <tr>\n",
              "      <th>270</th>\n",
              "      <td>PhD</td>\n",
              "      <td>Senior Marketing Director</td>\n",
              "      <td>1</td>\n",
              "    </tr>\n",
              "    <tr>\n",
              "      <th>271</th>\n",
              "      <td>PhD</td>\n",
              "      <td>Senior Researcher</td>\n",
              "      <td>1</td>\n",
              "    </tr>\n",
              "  </tbody>\n",
              "</table>\n",
              "<p>272 rows × 3 columns</p>\n",
              "</div>\n",
              "      <button class=\"colab-df-convert\" onclick=\"convertToInteractive('df-992dbc10-7c56-483f-b22d-f1eef674f3a9')\"\n",
              "              title=\"Convert this dataframe to an interactive table.\"\n",
              "              style=\"display:none;\">\n",
              "        \n",
              "  <svg xmlns=\"http://www.w3.org/2000/svg\" height=\"24px\"viewBox=\"0 0 24 24\"\n",
              "       width=\"24px\">\n",
              "    <path d=\"M0 0h24v24H0V0z\" fill=\"none\"/>\n",
              "    <path d=\"M18.56 5.44l.94 2.06.94-2.06 2.06-.94-2.06-.94-.94-2.06-.94 2.06-2.06.94zm-11 1L8.5 8.5l.94-2.06 2.06-.94-2.06-.94L8.5 2.5l-.94 2.06-2.06.94zm10 10l.94 2.06.94-2.06 2.06-.94-2.06-.94-.94-2.06-.94 2.06-2.06.94z\"/><path d=\"M17.41 7.96l-1.37-1.37c-.4-.4-.92-.59-1.43-.59-.52 0-1.04.2-1.43.59L10.3 9.45l-7.72 7.72c-.78.78-.78 2.05 0 2.83L4 21.41c.39.39.9.59 1.41.59.51 0 1.02-.2 1.41-.59l7.78-7.78 2.81-2.81c.8-.78.8-2.07 0-2.86zM5.41 20L4 18.59l7.72-7.72 1.47 1.35L5.41 20z\"/>\n",
              "  </svg>\n",
              "      </button>\n",
              "      \n",
              "  <style>\n",
              "    .colab-df-container {\n",
              "      display:flex;\n",
              "      flex-wrap:wrap;\n",
              "      gap: 12px;\n",
              "    }\n",
              "\n",
              "    .colab-df-convert {\n",
              "      background-color: #E8F0FE;\n",
              "      border: none;\n",
              "      border-radius: 50%;\n",
              "      cursor: pointer;\n",
              "      display: none;\n",
              "      fill: #1967D2;\n",
              "      height: 32px;\n",
              "      padding: 0 0 0 0;\n",
              "      width: 32px;\n",
              "    }\n",
              "\n",
              "    .colab-df-convert:hover {\n",
              "      background-color: #E2EBFA;\n",
              "      box-shadow: 0px 1px 2px rgba(60, 64, 67, 0.3), 0px 1px 3px 1px rgba(60, 64, 67, 0.15);\n",
              "      fill: #174EA6;\n",
              "    }\n",
              "\n",
              "    [theme=dark] .colab-df-convert {\n",
              "      background-color: #3B4455;\n",
              "      fill: #D2E3FC;\n",
              "    }\n",
              "\n",
              "    [theme=dark] .colab-df-convert:hover {\n",
              "      background-color: #434B5C;\n",
              "      box-shadow: 0px 1px 3px 1px rgba(0, 0, 0, 0.15);\n",
              "      filter: drop-shadow(0px 1px 2px rgba(0, 0, 0, 0.3));\n",
              "      fill: #FFFFFF;\n",
              "    }\n",
              "  </style>\n",
              "\n",
              "      <script>\n",
              "        const buttonEl =\n",
              "          document.querySelector('#df-992dbc10-7c56-483f-b22d-f1eef674f3a9 button.colab-df-convert');\n",
              "        buttonEl.style.display =\n",
              "          google.colab.kernel.accessAllowed ? 'block' : 'none';\n",
              "\n",
              "        async function convertToInteractive(key) {\n",
              "          const element = document.querySelector('#df-992dbc10-7c56-483f-b22d-f1eef674f3a9');\n",
              "          const dataTable =\n",
              "            await google.colab.kernel.invokeFunction('convertToInteractive',\n",
              "                                                     [key], {});\n",
              "          if (!dataTable) return;\n",
              "\n",
              "          const docLinkHtml = 'Like what you see? Visit the ' +\n",
              "            '<a target=\"_blank\" href=https://colab.research.google.com/notebooks/data_table.ipynb>data table notebook</a>'\n",
              "            + ' to learn more about interactive tables.';\n",
              "          element.innerHTML = '';\n",
              "          dataTable['output_type'] = 'display_data';\n",
              "          await google.colab.output.renderOutput(dataTable, element);\n",
              "          const docLink = document.createElement('div');\n",
              "          docLink.innerHTML = docLinkHtml;\n",
              "          element.appendChild(docLink);\n",
              "        }\n",
              "      </script>\n",
              "    </div>\n",
              "  </div>\n",
              "  "
            ]
          },
          "metadata": {},
          "execution_count": 40
        }
      ]
    },
    {
      "cell_type": "code",
      "source": [
        " # Create 4 bar plots for the distribution of job title per education level.\n",
        "fig, axes = plt.subplots(nrows=1, ncols=len(['High School', \"Bachelor's\", \"Master's\",'Phd']), figsize = (14,6))\n",
        "# Setting a variable to count which axis the plot should go on\n",
        "idx = 0\n",
        "# Loop through a list of the four category in education level\n",
        "for c in ['High School', \"Bachelor's\", \"Master's\",'PhD']:\n",
        "  # specify the particular education level\n",
        "  educ = df_job[df_job['education_level']==c].sort_values(by='number', ascending=False, axis='index').head(10)\n",
        "\n",
        "  # Create a bar plot\n",
        "  sns.barplot(\n",
        "      x=educ['job_title'],\n",
        "      y=educ['number'],\n",
        "      ax=axes[idx])\n",
        "\n",
        "  # Set title\n",
        "  axes[idx].set_title(c)\n",
        "  # Set x-axis, y-axis label\n",
        "  axes[idx].set_xlabel(\"Job Title\")\n",
        "  axes[idx].set_ylabel(\"Number of job titles\")\n",
        "  # Rotate labels on the x-axis\n",
        "  axes[idx].set_xticklabels(educ['job_title'], rotation=90);\n",
        "  # Add 1 to idx so on the next loop it changes to the next plot\n",
        "  idx+=1\n",
        "# Set the title of the whole plot\n",
        "plt.suptitle('Distribution of job title per education level', fontsize = 14);"
      ],
      "metadata": {
        "colab": {
          "base_uri": "https://localhost:8080/",
          "height": 609
        },
        "id": "6OQNnUnK1u9b",
        "outputId": "771a72c5-9546-4a0b-fd18-0cbd3d4ffed9"
      },
      "execution_count": 41,
      "outputs": [
        {
          "output_type": "display_data",
          "data": {
            "text/plain": [
              "<Figure size 1400x600 with 4 Axes>"
            ],
            "image/png": "[encoded data removed]"
          },
          "metadata": {}
        }
      ]
    },
    {
      "cell_type": "markdown",
      "source": [
        "We've found some interesting insights:\n",
        "\n",
        "- Sales are among the top job title for High School diplomas within various levels.\n",
        "- Bachelor's and Master's degrees often lead to Data Analyst, Backend Developer, Full Stack Engineer, Product Manager, and Software Engineer positions.\n",
        "- Data Scientist, Software Engineer Manager, and Senior Project Engineer are among the top job title for Master's degrees and Ph.D.\n",
        "- Research seems to be a field only among the top job title for Ph.D.\n",
        "\n",
        "One thing worth further investigating is how Senior Project Engineer may be shared among the top job titles for both High School and Ph.D. It's unlikely."
      ],
      "metadata": {
        "id": "W9kvdWBAuRdF"
      }
    },
    {
      "cell_type": "markdown",
      "source": [
        "This dataset is awesome. We can find out so much by just exploring it. Our focus this time will be on the top 10 job titles with the highest salaries on average. Afterward, we will focus on providing the business question's answer."
      ],
      "metadata": {
        "id": "3StHxrkVw8Gc"
      }
    },
    {
      "cell_type": "code",
      "source": [
        "sal_per_job = df.groupby('job_title')['salary'].mean().sort_values(ascending=False).to_frame().reset_index().head(10)\n",
        "\n",
        "sal_per_job['avg_salary']= sal_per_job['salary'].apply(readable_numbers)\n",
        "\n",
        "plt.figure(figsize=(8,6))\n",
        "plt.bar(x=sal_per_job['job_title'], height=sal_per_job['salary'])\n",
        "add_labels(sal_per_job['job_title'], sal_per_job['salary'], sal_per_job['avg_salary'])\n",
        "plt.plot()\n",
        "plt.xlabel('job title')\n",
        "plt.ylabel('Average salary')\n",
        "plt.xticks(sal_per_job['job_title'], rotation=90)\n",
        "plt.title('Average salary per Job title')\n",
        "plt.show()"
      ],
      "metadata": {
        "colab": {
          "base_uri": "https://localhost:8080/",
          "height": 607
        },
        "id": "mUEx08cgwMeE",
        "outputId": "362534b2-5603-4d7f-e37e-33fbebb37383"
      },
      "execution_count": 42,
      "outputs": [
        {
          "output_type": "display_data",
          "data": {
            "text/plain": [
              "<Figure size 800x600 with 1 Axes>"
            ],
            "image/png": "[encoded data removed]"
          },
          "metadata": {}
        }
      ]
    },
    {
      "cell_type": "markdown",
      "source": [
        "Management positions are the most paid job. We're tempted to take our analysis a step further, but stopping here is the price to pay for not being out-of-scope in this work. This has concluded our visualization exploration. Now, time to tackle the business questions."
      ],
      "metadata": {
        "id": "8XJHQsxE4R-X"
      }
    },
    {
      "cell_type": "markdown",
      "source": [
        "##**Statistical tests**"
      ],
      "metadata": {
        "id": "h1zIsoaaB6St"
      }
    },
    {
      "cell_type": "markdown",
      "source": [
        "Statistical tests are used to determine whether there is a significant difference between two or more groups. They can be used to compare means, proportions, and other statistics.\n",
        "\n",
        "Statistical tests are important because they help us to make informed decisions about our data. Without statistical tests, we would not be able to determine whether the differences we see in our data are due to chance or if they are real.\n",
        "\n",
        "There are many different types of statistical tests, and the right test to use depends on the type of data you have and the question you are trying to answer."
      ],
      "metadata": {
        "id": "cYD1SAkCCG4P"
      }
    },
    {
      "cell_type": "markdown",
      "source": [
        "In this work, we are concerned about figuring out\n",
        "- Is there any relationship between years of experience and salary? If so, how do years of experience affect salary?\n",
        "- Is there any relationship between education level and salary? If so, how does education level affect salary?\n",
        "\n",
        "Two questions with each one two-parts.\n",
        "\n",
        "We will run some statistical tests to address the first part of each question. Depending on the answer to the first part, linear regression can address the second part of the questions."
      ],
      "metadata": {
        "id": "iAQ1Hs_8DXJD"
      }
    },
    {
      "cell_type": "markdown",
      "source": [
        "**Is there any relationship between years of experience and salary?**\n",
        "\n",
        "The matrix correlation will help us answer this question along with the Pearson test. We are in the presence of two continuous variables. When such appears, the Pearson test goes without saying."
      ],
      "metadata": {
        "id": "LQSoyL3TG77f"
      }
    },
    {
      "cell_type": "markdown",
      "source": [
        "**The Pearson test** is a statistical test that is used to determine the strength and direction of the linear relationship between two variables. The test is based on the Pearson correlation coefficient, which is a measure of the linear relationship between two variables.\n",
        "\n",
        "The Pearson correlation coefficient can range from -1 to 1. A correlation coefficient of 0 indicates that there is no linear relationship between the two variables. A correlation coefficient of -1 indicates that there is a perfect negative linear relationship between the two variables. A correlation coefficient of 1 indicates that there is a perfect positive linear relationship between the two variables."
      ],
      "metadata": {
        "id": "fa6QZCKFKpe2"
      }
    },
    {
      "cell_type": "markdown",
      "source": [
        "**State the null hypothesis and the alternative hypothesis.**\n",
        "\n",
        "Null hypothesis (H0): years of experience is independent of salary. <br>\n",
        "Alternative hypothesis (Ha): years of experience is NOT independent of salary.\n",
        "\n",
        "We choose a significance level of 0.05\n"
      ],
      "metadata": {
        "id": "ZKCEVDLIMKKm"
      }
    },
    {
      "cell_type": "code",
      "source": [
        "df[['salary', 'years_of_experience']].corr()"
      ],
      "metadata": {
        "id": "JVpbs1Z60idI",
        "colab": {
          "base_uri": "https://localhost:8080/",
          "height": 112
        },
        "outputId": "5f6d334c-d7c6-490b-dec2-4700aa5859b2"
      },
      "execution_count": 43,
      "outputs": [
        {
          "output_type": "execute_result",
          "data": {
            "text/plain": [
              "                       salary  years_of_experience\n",
              "salary               1.000000             0.809043\n",
              "years_of_experience  0.809043             1.000000"
            ],
            "text/html": [
              "\n",
              "  <div id=\"df-718a1519-832f-4721-bb9e-b6548067762d\">\n",
              "    <div class=\"colab-df-container\">\n",
              "      <div>\n",
              "<style scoped>\n",
              "    .dataframe tbody tr th:only-of-type {\n",
              "        vertical-align: middle;\n",
              "    }\n",
              "\n",
              "    .dataframe tbody tr th {\n",
              "        vertical-align: top;\n",
              "    }\n",
              "\n",
              "    .dataframe thead th {\n",
              "        text-align: right;\n",
              "    }\n",
              "</style>\n",
              "<table border=\"1\" class=\"dataframe\">\n",
              "  <thead>\n",
              "    <tr style=\"text-align: right;\">\n",
              "      <th></th>\n",
              "      <th>salary</th>\n",
              "      <th>years_of_experience</th>\n",
              "    </tr>\n",
              "  </thead>\n",
              "  <tbody>\n",
              "    <tr>\n",
              "      <th>salary</th>\n",
              "      <td>1.000000</td>\n",
              "      <td>0.809043</td>\n",
              "    </tr>\n",
              "    <tr>\n",
              "      <th>years_of_experience</th>\n",
              "      <td>0.809043</td>\n",
              "      <td>1.000000</td>\n",
              "    </tr>\n",
              "  </tbody>\n",
              "</table>\n",
              "</div>\n",
              "      <button class=\"colab-df-convert\" onclick=\"convertToInteractive('df-718a1519-832f-4721-bb9e-b6548067762d')\"\n",
              "              title=\"Convert this dataframe to an interactive table.\"\n",
              "              style=\"display:none;\">\n",
              "        \n",
              "  <svg xmlns=\"http://www.w3.org/2000/svg\" height=\"24px\"viewBox=\"0 0 24 24\"\n",
              "       width=\"24px\">\n",
              "    <path d=\"M0 0h24v24H0V0z\" fill=\"none\"/>\n",
              "    <path d=\"M18.56 5.44l.94 2.06.94-2.06 2.06-.94-2.06-.94-.94-2.06-.94 2.06-2.06.94zm-11 1L8.5 8.5l.94-2.06 2.06-.94-2.06-.94L8.5 2.5l-.94 2.06-2.06.94zm10 10l.94 2.06.94-2.06 2.06-.94-2.06-.94-.94-2.06-.94 2.06-2.06.94z\"/><path d=\"M17.41 7.96l-1.37-1.37c-.4-.4-.92-.59-1.43-.59-.52 0-1.04.2-1.43.59L10.3 9.45l-7.72 7.72c-.78.78-.78 2.05 0 2.83L4 21.41c.39.39.9.59 1.41.59.51 0 1.02-.2 1.41-.59l7.78-7.78 2.81-2.81c.8-.78.8-2.07 0-2.86zM5.41 20L4 18.59l7.72-7.72 1.47 1.35L5.41 20z\"/>\n",
              "  </svg>\n",
              "      </button>\n",
              "      \n",
              "  <style>\n",
              "    .colab-df-container {\n",
              "      display:flex;\n",
              "      flex-wrap:wrap;\n",
              "      gap: 12px;\n",
              "    }\n",
              "\n",
              "    .colab-df-convert {\n",
              "      background-color: #E8F0FE;\n",
              "      border: none;\n",
              "      border-radius: 50%;\n",
              "      cursor: pointer;\n",
              "      display: none;\n",
              "      fill: #1967D2;\n",
              "      height: 32px;\n",
              "      padding: 0 0 0 0;\n",
              "      width: 32px;\n",
              "    }\n",
              "\n",
              "    .colab-df-convert:hover {\n",
              "      background-color: #E2EBFA;\n",
              "      box-shadow: 0px 1px 2px rgba(60, 64, 67, 0.3), 0px 1px 3px 1px rgba(60, 64, 67, 0.15);\n",
              "      fill: #174EA6;\n",
              "    }\n",
              "\n",
              "    [theme=dark] .colab-df-convert {\n",
              "      background-color: #3B4455;\n",
              "      fill: #D2E3FC;\n",
              "    }\n",
              "\n",
              "    [theme=dark] .colab-df-convert:hover {\n",
              "      background-color: #434B5C;\n",
              "      box-shadow: 0px 1px 3px 1px rgba(0, 0, 0, 0.15);\n",
              "      filter: drop-shadow(0px 1px 2px rgba(0, 0, 0, 0.3));\n",
              "      fill: #FFFFFF;\n",
              "    }\n",
              "  </style>\n",
              "\n",
              "      <script>\n",
              "        const buttonEl =\n",
              "          document.querySelector('#df-718a1519-832f-4721-bb9e-b6548067762d button.colab-df-convert');\n",
              "        buttonEl.style.display =\n",
              "          google.colab.kernel.accessAllowed ? 'block' : 'none';\n",
              "\n",
              "        async function convertToInteractive(key) {\n",
              "          const element = document.querySelector('#df-718a1519-832f-4721-bb9e-b6548067762d');\n",
              "          const dataTable =\n",
              "            await google.colab.kernel.invokeFunction('convertToInteractive',\n",
              "                                                     [key], {});\n",
              "          if (!dataTable) return;\n",
              "\n",
              "          const docLinkHtml = 'Like what you see? Visit the ' +\n",
              "            '<a target=\"_blank\" href=https://colab.research.google.com/notebooks/data_table.ipynb>data table notebook</a>'\n",
              "            + ' to learn more about interactive tables.';\n",
              "          element.innerHTML = '';\n",
              "          dataTable['output_type'] = 'display_data';\n",
              "          await google.colab.output.renderOutput(dataTable, element);\n",
              "          const docLink = document.createElement('div');\n",
              "          docLink.innerHTML = docLinkHtml;\n",
              "          element.appendChild(docLink);\n",
              "        }\n",
              "      </script>\n",
              "    </div>\n",
              "  </div>\n",
              "  "
            ]
          },
          "metadata": {},
          "execution_count": 43
        }
      ]
    },
    {
      "cell_type": "code",
      "source": [
        "pearson_coef, p_value = stats.pearsonr(df['years_of_experience'], df['salary'])\n",
        "print(\"The Pearson Correlation Coefficient is\", pearson_coef, \" with a P-value of\", p_value)"
      ],
      "metadata": {
        "id": "KhDuDrCtsuF-",
        "colab": {
          "base_uri": "https://localhost:8080/"
        },
        "outputId": "81d76877-8096-45a5-fa76-efd51c2eedf3"
      },
      "execution_count": 44,
      "outputs": [
        {
          "output_type": "stream",
          "name": "stdout",
          "text": [
            "The Pearson Correlation Coefficient is 0.809043179858658  with a P-value of 0.0\n"
          ]
        }
      ]
    },
    {
      "cell_type": "markdown",
      "source": [
        "In our case, the Pearson correlation coefficient was ~0.81. This indicates that there is a strong positive linear relationship between the two variables. In other words, as one variable increases, the other variable also tends to increase.\n",
        "\n",
        "However, it is important to note that the Pearson correlation coefficient does not prove causation. Just because two variables are correlated does not mean that one causes the other. There may be other factors that are causing the correlation.\n",
        "\n",
        "Since the P-value is lower than 0.05 we can be confident at more than 95% that there is a strong relationship between `salary` and `years_of_experience`. Therefore, we reject our null hypothesis.\n",
        "\n",
        "Now let's tackle the first part of the second question. Afterward, we will see how years of experience affect salary."
      ],
      "metadata": {
        "id": "rKkQygZ6KMBW"
      }
    },
    {
      "cell_type": "markdown",
      "source": [
        "**Is there any relationship between education level and salary?**\n",
        "\n",
        "The ANOVA test is the tool that will help us address this question.\n",
        "\n",
        "**ANOVA**, or *the analysis of variance*, is a statistical test that is used to compare the means of three or more groups. It is a very powerful test that can be used to determine if there is a significant difference between the means of the groups, in our specific scenario, education level.\n",
        "\n",
        "We will use it to determine if there is a difference in the mean(average) salary of High School, Bachelor's, Master's, and Ph.D."
      ],
      "metadata": {
        "id": "wlPzseueOH4q"
      }
    },
    {
      "cell_type": "markdown",
      "source": [
        "**State the null hypothesis and the alternative hypothesis.**\n",
        "\n",
        "Null hypothesis (H0): salary is independent of education level.<br>\n",
        "Alternative hypothesis (Ha): salary is NOT independent of education level.\n",
        "\n",
        "We choose a significance level of 0.05"
      ],
      "metadata": {
        "id": "CkILq6D-LEeV"
      }
    },
    {
      "cell_type": "code",
      "source": [
        "from scipy.stats import f_oneway\n",
        "SelectedContPredictors=[]\n",
        "CategoryGroupLists=df.groupby('education_level')['salary'].apply(list)\n",
        "AnovaResults = f_oneway(*CategoryGroupLists)\n",
        "if (AnovaResults[1] < 0.05):\n",
        "    print(\"education_level is correlated with salary | P-Value: {}\".format(AnovaResults[1]))\n",
        "else:\n",
        "    print(f\"education_level is NOT correlated with salary | P-Value: {AnovaResults[1]}\")"
      ],
      "metadata": {
        "id": "NGi5i_73pF31",
        "colab": {
          "base_uri": "https://localhost:8080/"
        },
        "outputId": "065b7534-7816-4233-b46a-f9cf5c330017"
      },
      "execution_count": 45,
      "outputs": [
        {
          "output_type": "stream",
          "name": "stdout",
          "text": [
            "education_level is correlated with salary | P-Value: 0.0\n"
          ]
        }
      ]
    },
    {
      "cell_type": "markdown",
      "source": [
        "Our P-value is 0.0, which indicates that we can reject our null hypothesis. Therefore, there is a strong relationship between `salary` and `education_level`. Hence, the mean of the groups is all different regarding salary."
      ],
      "metadata": {
        "id": "Je-nmpN6TLaM"
      }
    },
    {
      "cell_type": "markdown",
      "source": [
        "**Resume of the statistical tests**\n",
        "\n",
        "The tests confirmed our prior assumptions and answered the first part of the two questions.\n",
        "\n",
        "Q1 Answer: Of course, there is a relationship between `salary` and `years_of_experience`. <br>\n",
        "Q2 Answer: of course, there is a relationship between `salary` and `education_level`.\n",
        "\n",
        "Let's see how these variables affect salary."
      ],
      "metadata": {
        "id": "2_ED3uFiUy63"
      }
    },
    {
      "cell_type": "markdown",
      "source": [
        "----\n",
        "To avoid any confusion around relationship versus correlation. Adding the following has proven useful to me.\n",
        "\n",
        "A relationship is a connection (association) between two variables. For example, there is a relationship between height and weight, as taller people tend to weigh more.\n",
        "\n",
        "A correlation is a measure of the strength of the relationship between two variables. A correlation coefficient can range from -1 to 1.\n",
        "\n"
      ],
      "metadata": {
        "id": "-anXeRCnDu2y"
      }
    },
    {
      "cell_type": "markdown",
      "source": [
        "##**Linear regression**"
      ],
      "metadata": {
        "id": "c-ZnqkdigOV7"
      }
    },
    {
      "cell_type": "markdown",
      "source": [
        "Linear regression is a statistical method that is used to find the line of best fit between two variables. It is often used in business and economics to predict future outcomes.\n",
        "\n",
        "In our case, we want to understand how independent variables (education level and years of experience) affect salary through linear regression."
      ],
      "metadata": {
        "id": "K-XtcinFg_zX"
      }
    },
    {
      "cell_type": "markdown",
      "source": [
        "Here we should have the variable selection. Since we have so few variables in the dataset, the variable selection was based on the business objective.\n"
      ],
      "metadata": {
        "id": "m4IQUrsSxlr9"
      }
    },
    {
      "cell_type": "code",
      "source": [
        "# Import statsmodels and ols function\n",
        "import statsmodels.api as sm\n",
        "from statsmodels.formula.api import ols"
      ],
      "metadata": {
        "id": "SnJiPFTyuAec"
      },
      "execution_count": 46,
      "outputs": []
    },
    {
      "cell_type": "code",
      "source": [
        "model = ols(formula = \"salary ~ C(education_level) + years_of_experience\", data = df).fit()"
      ],
      "metadata": {
        "id": "1rksvRT_7_sE"
      },
      "execution_count": 47,
      "outputs": []
    },
    {
      "cell_type": "code",
      "source": [
        "model.summary()"
      ],
      "metadata": {
        "id": "Ng2nWmMMKdx2",
        "colab": {
          "base_uri": "https://localhost:8080/",
          "height": 507
        },
        "outputId": "df727219-9176-4bca-b3e4-f468b2261b0a"
      },
      "execution_count": 48,
      "outputs": [
        {
          "output_type": "execute_result",
          "data": {
            "text/plain": [
              "<class 'statsmodels.iolib.summary.Summary'>\n",
              "\"\"\"\n",
              "                            OLS Regression Results                            \n",
              "==============================================================================\n",
              "Dep. Variable:                 salary   R-squared:                       0.705\n",
              "Model:                            OLS   Adj. R-squared:                  0.705\n",
              "Method:                 Least Squares   F-statistic:                     4006.\n",
              "Date:                Fri, 23 Jun 2023   Prob (F-statistic):               0.00\n",
              "Time:                        05:26:16   Log-Likelihood:                -78190.\n",
              "No. Observations:                6694   AIC:                         1.564e+05\n",
              "Df Residuals:                    6689   BIC:                         1.564e+05\n",
              "Df Model:                           4                                         \n",
              "Covariance Type:            nonrobust                                         \n",
              "=====================================================================================================\n",
              "                                        coef    std err          t      P>|t|      [0.025      0.975]\n",
              "-----------------------------------------------------------------------------------------------------\n",
              "Intercept                          6.374e+04    652.512     97.691      0.000    6.25e+04     6.5e+04\n",
              "C(education_level)[T.High School] -3.814e+04   1471.387    -25.920      0.000    -4.1e+04   -3.53e+04\n",
              "C(education_level)[T.Master's]     1.046e+04    897.536     11.651      0.000    8698.160    1.22e+04\n",
              "C(education_level)[T.PhD]          2.131e+04   1117.885     19.067      0.000    1.91e+04    2.35e+04\n",
              "years_of_experience                5796.3641     72.432     80.025      0.000    5654.374    5938.354\n",
              "==============================================================================\n",
              "Omnibus:                      461.800   Durbin-Watson:                   0.770\n",
              "Prob(Omnibus):                  0.000   Jarque-Bera (JB):              571.444\n",
              "Skew:                           0.660   Prob(JB):                    8.18e-125\n",
              "Kurtosis:                       3.552   Cond. No.                         44.1\n",
              "==============================================================================\n",
              "\n",
              "Notes:\n",
              "[1] Standard Errors assume that the covariance matrix of the errors is correctly specified.\n",
              "\"\"\""
            ],
            "text/html": [
              "<table class=\"simpletable\">\n",
              "<caption>OLS Regression Results</caption>\n",
              "<tr>\n",
              "  <th>Dep. Variable:</th>         <td>salary</td>      <th>  R-squared:         </th> <td>   0.705</td> \n",
              "</tr>\n",
              "<tr>\n",
              "  <th>Model:</th>                   <td>OLS</td>       <th>  Adj. R-squared:    </th> <td>   0.705</td> \n",
              "</tr>\n",
              "<tr>\n",
              "  <th>Method:</th>             <td>Least Squares</td>  <th>  F-statistic:       </th> <td>   4006.</td> \n",
              "</tr>\n",
              "<tr>\n",
              "  <th>Date:</th>             <td>Fri, 23 Jun 2023</td> <th>  Prob (F-statistic):</th>  <td>  0.00</td>  \n",
              "</tr>\n",
              "<tr>\n",
              "  <th>Time:</th>                 <td>05:26:16</td>     <th>  Log-Likelihood:    </th> <td> -78190.</td> \n",
              "</tr>\n",
              "<tr>\n",
              "  <th>No. Observations:</th>      <td>  6694</td>      <th>  AIC:               </th> <td>1.564e+05</td>\n",
              "</tr>\n",
              "<tr>\n",
              "  <th>Df Residuals:</th>          <td>  6689</td>      <th>  BIC:               </th> <td>1.564e+05</td>\n",
              "</tr>\n",
              "<tr>\n",
              "  <th>Df Model:</th>              <td>     4</td>      <th>                     </th>     <td> </td>    \n",
              "</tr>\n",
              "<tr>\n",
              "  <th>Covariance Type:</th>      <td>nonrobust</td>    <th>                     </th>     <td> </td>    \n",
              "</tr>\n",
              "</table>\n",
              "<table class=\"simpletable\">\n",
              "<tr>\n",
              "                  <td></td>                     <th>coef</th>     <th>std err</th>      <th>t</th>      <th>P>|t|</th>  <th>[0.025</th>    <th>0.975]</th>  \n",
              "</tr>\n",
              "<tr>\n",
              "  <th>Intercept</th>                         <td> 6.374e+04</td> <td>  652.512</td> <td>   97.691</td> <td> 0.000</td> <td> 6.25e+04</td> <td>  6.5e+04</td>\n",
              "</tr>\n",
              "<tr>\n",
              "  <th>C(education_level)[T.High School]</th> <td>-3.814e+04</td> <td> 1471.387</td> <td>  -25.920</td> <td> 0.000</td> <td> -4.1e+04</td> <td>-3.53e+04</td>\n",
              "</tr>\n",
              "<tr>\n",
              "  <th>C(education_level)[T.Master's]</th>    <td> 1.046e+04</td> <td>  897.536</td> <td>   11.651</td> <td> 0.000</td> <td> 8698.160</td> <td> 1.22e+04</td>\n",
              "</tr>\n",
              "<tr>\n",
              "  <th>C(education_level)[T.PhD]</th>         <td> 2.131e+04</td> <td> 1117.885</td> <td>   19.067</td> <td> 0.000</td> <td> 1.91e+04</td> <td> 2.35e+04</td>\n",
              "</tr>\n",
              "<tr>\n",
              "  <th>years_of_experience</th>               <td> 5796.3641</td> <td>   72.432</td> <td>   80.025</td> <td> 0.000</td> <td> 5654.374</td> <td> 5938.354</td>\n",
              "</tr>\n",
              "</table>\n",
              "<table class=\"simpletable\">\n",
              "<tr>\n",
              "  <th>Omnibus:</th>       <td>461.800</td> <th>  Durbin-Watson:     </th> <td>   0.770</td> \n",
              "</tr>\n",
              "<tr>\n",
              "  <th>Prob(Omnibus):</th> <td> 0.000</td>  <th>  Jarque-Bera (JB):  </th> <td> 571.444</td> \n",
              "</tr>\n",
              "<tr>\n",
              "  <th>Skew:</th>          <td> 0.660</td>  <th>  Prob(JB):          </th> <td>8.18e-125</td>\n",
              "</tr>\n",
              "<tr>\n",
              "  <th>Kurtosis:</th>      <td> 3.552</td>  <th>  Cond. No.          </th> <td>    44.1</td> \n",
              "</tr>\n",
              "</table><br/><br/>Notes:<br/>[1] Standard Errors assume that the covariance matrix of the errors is correctly specified."
            ]
          },
          "metadata": {},
          "execution_count": 48
        }
      ]
    },
    {
      "cell_type": "markdown",
      "source": [
        "Before proceeding with interpretation, we must confirm that the model's results are valid by verifying the five fundamental assumptions of multiple linear regression."
      ],
      "metadata": {
        "id": "B7t5AS4qQLft"
      }
    },
    {
      "cell_type": "markdown",
      "source": [
        "**Multiple linear regression assumptions**\n",
        "\n",
        "<br>\n",
        "\n",
        "1. **Linearity:** Each predictor variable (Xi) is linearly related to the outcome variable (Y).\n",
        "\n",
        "2. **Independent observations:** Each observation in the dataset is independent.\n",
        "\n",
        "3. **(Multivariate) normality:** The errors are normally distributed.\n",
        "\n",
        "4. **Homoscedasticity:** The variation of the errors is constant or similar across the model.\n",
        "\n",
        "5. **No multicollinearity:** No two independent variables (Xi and Xj) can be highly correlated with each other."
      ],
      "metadata": {
        "id": "5MGNt7ufUO3a"
      }
    },
    {
      "cell_type": "markdown",
      "source": [
        "1. Our model has one continuous independent variables, the following plot confirms the linearity assumption.\n"
      ],
      "metadata": {
        "id": "ub2p0uqzWflG"
      }
    },
    {
      "cell_type": "code",
      "source": [
        "df_mod = df[['education_level', 'years_of_experience', 'salary']]"
      ],
      "metadata": {
        "id": "DEVCVxT4FmuJ"
      },
      "execution_count": 49,
      "outputs": []
    },
    {
      "cell_type": "code",
      "source": [
        "sns.pairplot(df_mod)"
      ],
      "metadata": {
        "colab": {
          "base_uri": "https://localhost:8080/",
          "height": 524
        },
        "id": "ldOXfYk4Jn2O",
        "outputId": "c4dfe037-fe97-4dd8-d8e2-1283c47b0310"
      },
      "execution_count": 50,
      "outputs": [
        {
          "output_type": "execute_result",
          "data": {
            "text/plain": [
              "<seaborn.axisgrid.PairGrid at 0x7f62bd970ca0>"
            ]
          },
          "metadata": {},
          "execution_count": 50
        },
        {
          "output_type": "display_data",
          "data": {
            "text/plain": [
              "<Figure size 500x500 with 6 Axes>"
            ],
            "image/png": "[encoded data removed]"
          },
          "metadata": {}
        }
      ]
    },
    {
      "cell_type": "markdown",
      "source": [
        "2. The independent observation assumption states that each observation in the dataset is independent. As the data were obtained from multiple sources, including surveys, job posting sites, and other publicly available sources are independent from one another, the independence assumption is not violated.\n",
        "\n",
        "3. Next, let's verify that the normality assumption is upheld for the model."
      ],
      "metadata": {
        "id": "8pXHqSGeXFAB"
      }
    },
    {
      "cell_type": "code",
      "source": [
        "# Calculate the residuals.\n",
        "\n",
        "### YOUR CODE HERE ###\n",
        "\n",
        "residuals = model.resid\n",
        "\n",
        "# Create a 1x2 plot figure.\n",
        "fig, axes = plt.subplots(1, 2, figsize = (8,4))\n",
        "\n",
        "# Create a histogram with the residuals.\n",
        "\n",
        "\n",
        "sns.histplot(residuals, ax=axes[0])\n",
        "\n",
        "# Set the x label of the residual plot.\n",
        "axes[0].set_xlabel(\"Residual Value\")\n",
        "\n",
        "# Set the title of the residual plot.\n",
        "axes[0].set_title(\"Histogram of Residuals\")\n",
        "\n",
        "# Create a QQ plot of the residuals.\n",
        "\n",
        "\n",
        "sm.qqplot(residuals, line='s',ax = axes[1])\n",
        "\n",
        "# Set the title of the QQ plot.\n",
        "axes[1].set_title(\"Normal QQ Plot\")\n",
        "\n",
        "# Use matplotlib's tight_layout() function to add space between plots for a cleaner appearance.\n",
        "plt.tight_layout()\n",
        "\n",
        "# Show the plot.\n",
        "plt.show()"
      ],
      "metadata": {
        "colab": {
          "base_uri": "https://localhost:8080/",
          "height": 407
        },
        "id": "bwOHkmU5LZKC",
        "outputId": "dac6ebcb-9d36-43e0-c0db-3bf726f8ab6e"
      },
      "execution_count": 51,
      "outputs": [
        {
          "output_type": "display_data",
          "data": {
            "text/plain": [
              "<Figure size 800x400 with 2 Axes>"
            ],
            "image/png": "[encoded data removed]"
          },
          "metadata": {}
        }
      ]
    },
    {
      "cell_type": "markdown",
      "source": [
        "We observe the points stick around the straight diagonal line on the Q-Q plot and a normal distribution slightly skewed.\n",
        "This meets our requirement for normality."
      ],
      "metadata": {
        "id": "ZhjblWChYiE6"
      }
    },
    {
      "cell_type": "markdown",
      "source": [
        "4. verify the constant variance (homoscedasticity) assumption is met for this model."
      ],
      "metadata": {
        "id": "BcIErysMa5ON"
      }
    },
    {
      "cell_type": "code",
      "source": [
        "# Create a scatter plot with the fitted values from the model and the residuals.\n",
        "\n",
        "### YOUR CODE HERE ###\n",
        "\n",
        "fig = sns.scatterplot(x = model.fittedvalues, y = model.resid)\n",
        "\n",
        "# Set the x axis label\n",
        "fig.set_xlabel(\"Fitted Values\")\n",
        "\n",
        "# Set the y axis label\n",
        "fig.set_ylabel(\"Residuals\")\n",
        "\n",
        "# Set the title\n",
        "fig.set_title(\"Fitted Values v. Residuals\")\n",
        "\n",
        "# Add a line at y = 0 to visualize the variance of residuals above and below 0.\n",
        "\n",
        "### YOUR CODE HERE ###\n",
        "\n",
        "fig.axhline(0)\n",
        "\n",
        "# Show the plot\n",
        "plt.show()"
      ],
      "metadata": {
        "colab": {
          "base_uri": "https://localhost:8080/",
          "height": 357
        },
        "id": "DdqGHed1No6E",
        "outputId": "b0dd0dfb-39e1-4e51-a171-9f2c93973ab2"
      },
      "execution_count": 52,
      "outputs": [
        {
          "output_type": "display_data",
          "data": {
            "text/plain": [
              "<Figure size 750x350 with 1 Axes>"
            ],
            "image/png": "[encoded data removed]"
          },
          "metadata": {}
        }
      ]
    },
    {
      "cell_type": "markdown",
      "source": [
        " The data points seem to be scattered randomly across the line where residuals equal 0. Our homoscedasticity assumption is met."
      ],
      "metadata": {
        "id": "FbnE4HGCcSCC"
      }
    },
    {
      "cell_type": "markdown",
      "source": [
        "5. Since we only have one continuous independent variable in our model. The multicollinearity assumption is not required.\n",
        "\n",
        "Our five model assumptions are satisfied. Therefore, we can proceed to interpretation."
      ],
      "metadata": {
        "id": "x_pvqMMacxxa"
      }
    },
    {
      "cell_type": "markdown",
      "source": [
        "###**Interpretation of the model**\n",
        "\n",
        "This model explains up to 70.5% of the variation in salary.\n",
        "\n",
        "**How do years of experience affect salary?**\n",
        "- For every one more year of experience, while the level of education remains constant, the salary is expected to increase by $5,796.36 on average. We are up to 95% confident that the true value range from 5654.37 to 5,938.35.\n",
        "\n",
        "**How does education level affect salary?**\n",
        "\n",
        "While holding constant the years of experience:\n",
        "- Someone with a High School diploma earns $38,140 less, on average, than someone with a bachelor's degree. We are up to 95% confident that the true value range from -41,000 to -35,300.\n",
        "\n",
        "- Someone with a Master's degree earns $10,460 more, on average, than someone with Bachelor's degree. We are up to 95% confident that the true value range from 8,698.16 to 12,200.\n",
        "\n",
        "- Someone with Ph.D. earns $21,310 more, on average, than someone with a bachelor's degree. We are up to 95% confident that the true value range from 19,100 to 23,500."
      ],
      "metadata": {
        "id": "Qky4aZNxkajH"
      }
    },
    {
      "cell_type": "markdown",
      "source": [
        "The coefficients reveal that `education_level` was the feature with the greatest weight in the model’s\n",
        "final prediction."
      ],
      "metadata": {
        "id": "9uM3hVgwG-qD"
      }
    },
    {
      "cell_type": "markdown",
      "source": [
        "###**One-way ANOVA test**"
      ],
      "metadata": {
        "id": "ekxq6q8smHHj"
      }
    },
    {
      "cell_type": "markdown",
      "source": [
        "The one-way ANOVA test is a statistical test that is used to compare the means of two or more groups. It is a powerful tool that can be used to determine whether there is a statistically significant difference between the means of the groups.\n",
        "\n",
        "For example, we can use the one-way ANOVA test to determine whether there is a difference in the mean salary among `education_level`."
      ],
      "metadata": {
        "id": "esZlZlawm598"
      }
    },
    {
      "cell_type": "markdown",
      "source": [
        "**The null hypothesis** is that there is no difference in salary based on the education levels.\n",
        "\n",
        "**The alternative hypothesis** is that there is a difference in salary based on education levels."
      ],
      "metadata": {
        "id": "XQeQ0xZ8oiGY"
      }
    },
    {
      "cell_type": "code",
      "source": [
        "sm.stats.anova_lm(model, typ = 1)"
      ],
      "metadata": {
        "id": "etsTPYV2Kgl7",
        "colab": {
          "base_uri": "https://localhost:8080/",
          "height": 143
        },
        "outputId": "78808525-0788-4501-a671-b9bd80923abe"
      },
      "execution_count": 53,
      "outputs": [
        {
          "output_type": "execute_result",
          "data": {
            "text/plain": [
              "                         df        sum_sq       mean_sq            F  PR(>F)\n",
              "C(education_level)      3.0  7.882260e+12  2.627420e+12  3206.655272     0.0\n",
              "years_of_experience     1.0  5.247177e+12  5.247177e+12  6403.959023     0.0\n",
              "Residual             6689.0  5.480730e+12  8.193646e+08          NaN     NaN"
            ],
            "text/html": [
              "\n",
              "  <div id=\"df-f7b4f3e4-2f14-496f-97c6-1254116085ee\">\n",
              "    <div class=\"colab-df-container\">\n",
              "      <div>\n",
              "<style scoped>\n",
              "    .dataframe tbody tr th:only-of-type {\n",
              "        vertical-align: middle;\n",
              "    }\n",
              "\n",
              "    .dataframe tbody tr th {\n",
              "        vertical-align: top;\n",
              "    }\n",
              "\n",
              "    .dataframe thead th {\n",
              "        text-align: right;\n",
              "    }\n",
              "</style>\n",
              "<table border=\"1\" class=\"dataframe\">\n",
              "  <thead>\n",
              "    <tr style=\"text-align: right;\">\n",
              "      <th></th>\n",
              "      <th>df</th>\n",
              "      <th>sum_sq</th>\n",
              "      <th>mean_sq</th>\n",
              "      <th>F</th>\n",
              "      <th>PR(&gt;F)</th>\n",
              "    </tr>\n",
              "  </thead>\n",
              "  <tbody>\n",
              "    <tr>\n",
              "      <th>C(education_level)</th>\n",
              "      <td>3.0</td>\n",
              "      <td>7.882260e+12</td>\n",
              "      <td>2.627420e+12</td>\n",
              "      <td>3206.655272</td>\n",
              "      <td>0.0</td>\n",
              "    </tr>\n",
              "    <tr>\n",
              "      <th>years_of_experience</th>\n",
              "      <td>1.0</td>\n",
              "      <td>5.247177e+12</td>\n",
              "      <td>5.247177e+12</td>\n",
              "      <td>6403.959023</td>\n",
              "      <td>0.0</td>\n",
              "    </tr>\n",
              "    <tr>\n",
              "      <th>Residual</th>\n",
              "      <td>6689.0</td>\n",
              "      <td>5.480730e+12</td>\n",
              "      <td>8.193646e+08</td>\n",
              "      <td>NaN</td>\n",
              "      <td>NaN</td>\n",
              "    </tr>\n",
              "  </tbody>\n",
              "</table>\n",
              "</div>\n",
              "      <button class=\"colab-df-convert\" onclick=\"convertToInteractive('df-f7b4f3e4-2f14-496f-97c6-1254116085ee')\"\n",
              "              title=\"Convert this dataframe to an interactive table.\"\n",
              "              style=\"display:none;\">\n",
              "        \n",
              "  <svg xmlns=\"http://www.w3.org/2000/svg\" height=\"24px\"viewBox=\"0 0 24 24\"\n",
              "       width=\"24px\">\n",
              "    <path d=\"M0 0h24v24H0V0z\" fill=\"none\"/>\n",
              "    <path d=\"M18.56 5.44l.94 2.06.94-2.06 2.06-.94-2.06-.94-.94-2.06-.94 2.06-2.06.94zm-11 1L8.5 8.5l.94-2.06 2.06-.94-2.06-.94L8.5 2.5l-.94 2.06-2.06.94zm10 10l.94 2.06.94-2.06 2.06-.94-2.06-.94-.94-2.06-.94 2.06-2.06.94z\"/><path d=\"M17.41 7.96l-1.37-1.37c-.4-.4-.92-.59-1.43-.59-.52 0-1.04.2-1.43.59L10.3 9.45l-7.72 7.72c-.78.78-.78 2.05 0 2.83L4 21.41c.39.39.9.59 1.41.59.51 0 1.02-.2 1.41-.59l7.78-7.78 2.81-2.81c.8-.78.8-2.07 0-2.86zM5.41 20L4 18.59l7.72-7.72 1.47 1.35L5.41 20z\"/>\n",
              "  </svg>\n",
              "      </button>\n",
              "      \n",
              "  <style>\n",
              "    .colab-df-container {\n",
              "      display:flex;\n",
              "      flex-wrap:wrap;\n",
              "      gap: 12px;\n",
              "    }\n",
              "\n",
              "    .colab-df-convert {\n",
              "      background-color: #E8F0FE;\n",
              "      border: none;\n",
              "      border-radius: 50%;\n",
              "      cursor: pointer;\n",
              "      display: none;\n",
              "      fill: #1967D2;\n",
              "      height: 32px;\n",
              "      padding: 0 0 0 0;\n",
              "      width: 32px;\n",
              "    }\n",
              "\n",
              "    .colab-df-convert:hover {\n",
              "      background-color: #E2EBFA;\n",
              "      box-shadow: 0px 1px 2px rgba(60, 64, 67, 0.3), 0px 1px 3px 1px rgba(60, 64, 67, 0.15);\n",
              "      fill: #174EA6;\n",
              "    }\n",
              "\n",
              "    [theme=dark] .colab-df-convert {\n",
              "      background-color: #3B4455;\n",
              "      fill: #D2E3FC;\n",
              "    }\n",
              "\n",
              "    [theme=dark] .colab-df-convert:hover {\n",
              "      background-color: #434B5C;\n",
              "      box-shadow: 0px 1px 3px 1px rgba(0, 0, 0, 0.15);\n",
              "      filter: drop-shadow(0px 1px 2px rgba(0, 0, 0, 0.3));\n",
              "      fill: #FFFFFF;\n",
              "    }\n",
              "  </style>\n",
              "\n",
              "      <script>\n",
              "        const buttonEl =\n",
              "          document.querySelector('#df-f7b4f3e4-2f14-496f-97c6-1254116085ee button.colab-df-convert');\n",
              "        buttonEl.style.display =\n",
              "          google.colab.kernel.accessAllowed ? 'block' : 'none';\n",
              "\n",
              "        async function convertToInteractive(key) {\n",
              "          const element = document.querySelector('#df-f7b4f3e4-2f14-496f-97c6-1254116085ee');\n",
              "          const dataTable =\n",
              "            await google.colab.kernel.invokeFunction('convertToInteractive',\n",
              "                                                     [key], {});\n",
              "          if (!dataTable) return;\n",
              "\n",
              "          const docLinkHtml = 'Like what you see? Visit the ' +\n",
              "            '<a target=\"_blank\" href=https://colab.research.google.com/notebooks/data_table.ipynb>data table notebook</a>'\n",
              "            + ' to learn more about interactive tables.';\n",
              "          element.innerHTML = '';\n",
              "          dataTable['output_type'] = 'display_data';\n",
              "          await google.colab.output.renderOutput(dataTable, element);\n",
              "          const docLink = document.createElement('div');\n",
              "          docLink.innerHTML = docLinkHtml;\n",
              "          element.appendChild(docLink);\n",
              "        }\n",
              "      </script>\n",
              "    </div>\n",
              "  </div>\n",
              "  "
            ]
          },
          "metadata": {},
          "execution_count": 53
        }
      ]
    },
    {
      "cell_type": "markdown",
      "source": [
        "The F-test statistic is 3206.66 and the p-value is  0.0. Because the p-value is less than 0.05, we reject the null hypothesis that there is no difference in salary based on the education levels."
      ],
      "metadata": {
        "id": "ZfblNamEpO-t"
      }
    },
    {
      "cell_type": "markdown",
      "source": [
        "###**ANOVA post hoc test**\n"
      ],
      "metadata": {
        "id": "Tzg7LcDHqTtl"
      }
    },
    {
      "cell_type": "markdown",
      "source": [
        "Since we have significant results from the one-way ANOVA test, we will apply ANOVA post hoc tests, such as the Tukey’s HSD post hoc test.\n",
        "\n",
        "The Tukey’s HSD post hoc test compares if there is a significant difference between each pair of categories for education levels."
      ],
      "metadata": {
        "id": "zKq5SiWjqeF9"
      }
    },
    {
      "cell_type": "code",
      "source": [
        "from statsmodels.stats.multicomp import pairwise_tukeyhsd\n",
        "tukey_oneway = pairwise_tukeyhsd(endog = df[\"salary\"], groups = df[\"education_level\"])\n",
        "\n",
        "# Display the results\n",
        "tukey_oneway.summary()"
      ],
      "metadata": {
        "colab": {
          "base_uri": "https://localhost:8080/",
          "height": 183
        },
        "id": "y7TCHQCxgAGr",
        "outputId": "0247bd35-e27a-4bc5-ffab-33a3f77fcc32"
      },
      "execution_count": 54,
      "outputs": [
        {
          "output_type": "execute_result",
          "data": {
            "text/plain": [
              "<class 'statsmodels.iolib.table.SimpleTable'>"
            ],
            "text/html": [
              "<table class=\"simpletable\">\n",
              "<caption>Multiple Comparison of Means - Tukey HSD, FWER=0.05</caption>\n",
              "<tr>\n",
              "    <th>group1</th>      <th>group2</th>     <th>meandiff</th>   <th>p-adj</th>    <th>lower</th>       <th>upper</th>    <th>reject</th>\n",
              "</tr>\n",
              "<tr>\n",
              "  <td>Bachelor's</td>  <td>High School</td> <td>-58470.2664</td>  <td>0.0</td>  <td>-63680.2784</td> <td>-53260.2544</td>  <td>True</td> \n",
              "</tr>\n",
              "<tr>\n",
              "  <td>Bachelor's</td>   <td>Master's</td>   <td>34935.0959</td>   <td>0.0</td>  <td>31901.7085</td>  <td>37968.4833</td>   <td>True</td> \n",
              "</tr>\n",
              "<tr>\n",
              "  <td>Bachelor's</td>      <td>PhD</td>     <td>70595.1644</td>   <td>0.0</td>  <td>67241.2288</td>    <td>73949.1</td>    <td>True</td> \n",
              "</tr>\n",
              "<tr>\n",
              "  <td>High School</td>  <td>Master's</td>   <td>93405.3623</td>   <td>0.0</td>  <td>87989.7758</td>  <td>98820.9487</td>   <td>True</td> \n",
              "</tr>\n",
              "<tr>\n",
              "  <td>High School</td>     <td>PhD</td>     <td>129065.4308</td>  <td>0.0</td>  <td>123464.0005</td> <td>134666.8611</td>  <td>True</td> \n",
              "</tr>\n",
              "<tr>\n",
              "   <td>Master's</td>       <td>PhD</td>     <td>35660.0685</td>   <td>0.0</td>  <td>31994.9307</td>  <td>39325.2064</td>   <td>True</td> \n",
              "</tr>\n",
              "</table>"
            ]
          },
          "metadata": {},
          "execution_count": 54
        }
      ]
    },
    {
      "cell_type": "markdown",
      "source": [
        "###**Interpretation of the Tukey HSD test**"
      ],
      "metadata": {
        "id": "dB91_sXFiPJH"
      }
    },
    {
      "cell_type": "markdown",
      "source": [
        "Each row compares different groups, indicates whether we can reject the null hypothesis that there is no significant difference between the Sales of these two groups.\n",
        "\n",
        "We can reject the null hypotheses for all the pairwise comparisons that compare the group between them."
      ],
      "metadata": {
        "id": "qQTj8NbNiXMF"
      }
    },
    {
      "cell_type": "markdown",
      "source": [
        "##**Insights to share with Stakeholders**"
      ],
      "metadata": {
        "id": "P2gPocJF9Hor"
      }
    },
    {
      "cell_type": "markdown",
      "source": [
        "**The following summarises our findings.**\n",
        "\n",
        "<br>\n",
        "\n",
        "1. on average, there is a difference in salary per category in education level. We can observe that as someone goes from High School up to PhD, his salary tend to be increased on average.\n",
        "\n",
        "This table illustrates the fact.\n",
        "\n",
        "| education_level |\taverage_salary |\n",
        "| --------------- | ---------------- |\n",
        "|\tBachelor's |\t95.1 K |\n",
        "|\tHigh School\t| 36.7 K |\n",
        "|\tMaster's\t| 130.1 K |\n",
        "|\tPhD\t| 165.7 K |\n",
        "\n",
        "\n",
        "<br>\n",
        "\n",
        "2. Some Data Scientists, Software Engineers and Product Managers with bachelor's or master's degrees earn more than $150,000 a year, even with less than 5 years of experience.\n",
        "\n",
        "<br>\n",
        "\n",
        "3. Regarding the most popular `job_title` among education_level:\n",
        "- Sales are among the top job title for High School diplomas within various levels.\n",
        "- Bachelor's and Master's degrees often lead to Data Analyst, Backend Developer, Full Stack Engineer, Product Manager, and Software Engineer positions.\n",
        "- Data Scientist, Software Engineer Manager, and Senior Project Engineer are among the top job title for Master's degrees and Ph.D.\n",
        "- Research seems to be a field only among the top job title for Ph.D.\n",
        "\n",
        "<br>\n",
        "\n",
        "4. Management positions are the most paid job. Especially, Chief Technology Officer and CEO are the highest-paid jobs with roughly  $250,000 a year.\n",
        "\n",
        "<br>\n",
        "\n",
        "5. A Pearson test indicates that salary and years of experience have a linear relationship. The Pearson correlation coefficient is ~0.81 with a P-value of 0.0. This points to a strong positive linear relationship between the two variables. As one variable increases, the other variable also follows.\n",
        "\n",
        "<br>\n",
        "\n",
        "6. An ANOVA test proves that `salary` and `education_level` are correlated, and a P-value of 0.0 was computed. Hence, the confirmation that the mean of the groups `in education_level` is all different regarding salary.\n",
        "\n",
        "<br>\n",
        "\n",
        "**Linear Regression**\n",
        "\n",
        "This model, with the two independent variables of interest `education_level` and `salary`, explains up to 70.5% of the variation in `salary`.\n",
        "\n",
        "<br>\n",
        "\n",
        "*How do years of experience affect salary?*\n",
        "\n",
        "- For every one more year of experience, while the level of education remains constant, the salary is expected to increase by $5,796.36 on average. We are up to 95% confident that the actual value varies from 5,654.37 to 5,938.35.\n",
        "\n",
        "\n",
        "<br>\n",
        "\n",
        "*How do education levels affect salary?*\n",
        "\n",
        "While holding constant the years of experience:\n",
        "\n",
        "- Someone with a High School diploma earns $38,140 less, on average, than someone with a bachelor's degree. We are up to 95% confident that the actual value range from -41,000 to -35,300.\n",
        "\n",
        "- Someone with a Master's degree earns $10,460 more, on average, than someone with Bachelor's degree. We are up to 95% confident that the actual value range from 8,698.16 to 12,200.\n",
        "\n",
        "- Someone with Ph.D. earns $21,310 more, on average, than someone with a bachelor's degree. We are up to 95% confident that the true actual range from 19,100 to 23,500.\n",
        "\n",
        "The coefficients reveal that `education_level` was the feature with the heaviest weight in the model’s final prediction.\n"
      ],
      "metadata": {
        "id": "Bs4WRAe49Qy5"
      }
    },
    {
      "cell_type": "markdown",
      "source": [
        "**Conclusion and perspective**\n",
        "\n",
        "We are glad to see, without looking for additional data or modifying the project scope, the data is sufficient to allow us to address the need and answer the fundamental questions of our study case. If we had more time, we would want to check for the most prevalent occupations by age group and look into the hypothesis that you need a degree to be a Data Analyst or Data Scientist. But doing so, in this project, would also mean being out of scope. With that being said, this dataset stays with lots of untapped potential."
      ],
      "metadata": {
        "id": "NyQa8XZllPwE"
      }
    },
    {
      "cell_type": "markdown",
      "source": [
        "Thank you for sticking around with me up to there. There is more than one way to achieve this type of work. Having any suggestions?\n",
        "\n",
        "ralphguerson@gmail.com"
      ],
      "metadata": {
        "id": "qvsfyJDPrKZe"
      }
    }
  ]
}